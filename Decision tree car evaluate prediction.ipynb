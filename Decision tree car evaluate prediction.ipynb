{
 "cells": [
  {
   "cell_type": "code",
   "execution_count": 1,
   "id": "0283f798",
   "metadata": {},
   "outputs": [],
   "source": [
    "# Decision tree model "
   ]
  },
  {
   "cell_type": "code",
   "execution_count": 2,
   "id": "5fc58110",
   "metadata": {},
   "outputs": [],
   "source": [
    "import numpy as np\n",
    "import pandas as pd \n",
    "import matplotlib.pyplot as plt\n",
    "import seaborn as sns"
   ]
  },
  {
   "cell_type": "code",
   "execution_count": 3,
   "id": "224edef2",
   "metadata": {},
   "outputs": [
    {
     "name": "stdout",
     "output_type": "stream",
     "text": [
      "D:/Projects/Decision tree\\car_evaluation.csv\n"
     ]
    }
   ],
   "source": [
    "import os \n",
    "for dirname,_,filenames in os.walk(\"D:/Projects/Decision tree\"):\n",
    "    for filename in filenames:\n",
    "        print(os.path.join(dirname,filename))"
   ]
  },
  {
   "cell_type": "code",
   "execution_count": 4,
   "id": "4db06097",
   "metadata": {},
   "outputs": [],
   "source": [
    "df = pd.read_csv(r\"D:\\Projects\\Decision tree\\car_evaluation.csv\")"
   ]
  },
  {
   "cell_type": "code",
   "execution_count": 5,
   "id": "90ada59f",
   "metadata": {},
   "outputs": [
    {
     "data": {
      "text/html": [
       "<div>\n",
       "<style scoped>\n",
       "    .dataframe tbody tr th:only-of-type {\n",
       "        vertical-align: middle;\n",
       "    }\n",
       "\n",
       "    .dataframe tbody tr th {\n",
       "        vertical-align: top;\n",
       "    }\n",
       "\n",
       "    .dataframe thead th {\n",
       "        text-align: right;\n",
       "    }\n",
       "</style>\n",
       "<table border=\"1\" class=\"dataframe\">\n",
       "  <thead>\n",
       "    <tr style=\"text-align: right;\">\n",
       "      <th></th>\n",
       "      <th>vhigh</th>\n",
       "      <th>vhigh.1</th>\n",
       "      <th>2</th>\n",
       "      <th>2.1</th>\n",
       "      <th>small</th>\n",
       "      <th>low</th>\n",
       "      <th>unacc</th>\n",
       "    </tr>\n",
       "  </thead>\n",
       "  <tbody>\n",
       "    <tr>\n",
       "      <th>0</th>\n",
       "      <td>vhigh</td>\n",
       "      <td>vhigh</td>\n",
       "      <td>2</td>\n",
       "      <td>2</td>\n",
       "      <td>small</td>\n",
       "      <td>med</td>\n",
       "      <td>unacc</td>\n",
       "    </tr>\n",
       "    <tr>\n",
       "      <th>1</th>\n",
       "      <td>vhigh</td>\n",
       "      <td>vhigh</td>\n",
       "      <td>2</td>\n",
       "      <td>2</td>\n",
       "      <td>small</td>\n",
       "      <td>high</td>\n",
       "      <td>unacc</td>\n",
       "    </tr>\n",
       "    <tr>\n",
       "      <th>2</th>\n",
       "      <td>vhigh</td>\n",
       "      <td>vhigh</td>\n",
       "      <td>2</td>\n",
       "      <td>2</td>\n",
       "      <td>med</td>\n",
       "      <td>low</td>\n",
       "      <td>unacc</td>\n",
       "    </tr>\n",
       "    <tr>\n",
       "      <th>3</th>\n",
       "      <td>vhigh</td>\n",
       "      <td>vhigh</td>\n",
       "      <td>2</td>\n",
       "      <td>2</td>\n",
       "      <td>med</td>\n",
       "      <td>med</td>\n",
       "      <td>unacc</td>\n",
       "    </tr>\n",
       "    <tr>\n",
       "      <th>4</th>\n",
       "      <td>vhigh</td>\n",
       "      <td>vhigh</td>\n",
       "      <td>2</td>\n",
       "      <td>2</td>\n",
       "      <td>med</td>\n",
       "      <td>high</td>\n",
       "      <td>unacc</td>\n",
       "    </tr>\n",
       "  </tbody>\n",
       "</table>\n",
       "</div>"
      ],
      "text/plain": [
       "   vhigh vhigh.1  2 2.1  small   low  unacc\n",
       "0  vhigh   vhigh  2   2  small   med  unacc\n",
       "1  vhigh   vhigh  2   2  small  high  unacc\n",
       "2  vhigh   vhigh  2   2    med   low  unacc\n",
       "3  vhigh   vhigh  2   2    med   med  unacc\n",
       "4  vhigh   vhigh  2   2    med  high  unacc"
      ]
     },
     "execution_count": 5,
     "metadata": {},
     "output_type": "execute_result"
    }
   ],
   "source": [
    "df.head()"
   ]
  },
  {
   "cell_type": "code",
   "execution_count": 6,
   "id": "bf1cdf4f",
   "metadata": {},
   "outputs": [
    {
     "data": {
      "text/plain": [
       "(1727, 7)"
      ]
     },
     "execution_count": 6,
     "metadata": {},
     "output_type": "execute_result"
    }
   ],
   "source": [
    "df.shape"
   ]
  },
  {
   "cell_type": "code",
   "execution_count": 7,
   "id": "0f4766f2",
   "metadata": {},
   "outputs": [],
   "source": [
    "# rename the columns name"
   ]
  },
  {
   "cell_type": "code",
   "execution_count": 8,
   "id": "c6b04d83",
   "metadata": {},
   "outputs": [
    {
     "data": {
      "text/plain": [
       "['buying', 'maint', 'doors', 'persons', 'lug_boot', 'safety', 'class']"
      ]
     },
     "execution_count": 8,
     "metadata": {},
     "output_type": "execute_result"
    }
   ],
   "source": [
    "col_names = ['buying', 'maint', 'doors', 'persons', 'lug_boot', 'safety', 'class']\n",
    "df.columns = col_names\n",
    "col_names"
   ]
  },
  {
   "cell_type": "code",
   "execution_count": 9,
   "id": "b2af60ff",
   "metadata": {},
   "outputs": [
    {
     "data": {
      "text/plain": [
       "Index(['buying', 'maint', 'doors', 'persons', 'lug_boot', 'safety', 'class'], dtype='object')"
      ]
     },
     "execution_count": 9,
     "metadata": {},
     "output_type": "execute_result"
    }
   ],
   "source": [
    "df.columns"
   ]
  },
  {
   "cell_type": "code",
   "execution_count": 10,
   "id": "2bb8dc6b",
   "metadata": {},
   "outputs": [
    {
     "data": {
      "text/html": [
       "<div>\n",
       "<style scoped>\n",
       "    .dataframe tbody tr th:only-of-type {\n",
       "        vertical-align: middle;\n",
       "    }\n",
       "\n",
       "    .dataframe tbody tr th {\n",
       "        vertical-align: top;\n",
       "    }\n",
       "\n",
       "    .dataframe thead th {\n",
       "        text-align: right;\n",
       "    }\n",
       "</style>\n",
       "<table border=\"1\" class=\"dataframe\">\n",
       "  <thead>\n",
       "    <tr style=\"text-align: right;\">\n",
       "      <th></th>\n",
       "      <th>buying</th>\n",
       "      <th>maint</th>\n",
       "      <th>doors</th>\n",
       "      <th>persons</th>\n",
       "      <th>lug_boot</th>\n",
       "      <th>safety</th>\n",
       "      <th>class</th>\n",
       "    </tr>\n",
       "  </thead>\n",
       "  <tbody>\n",
       "    <tr>\n",
       "      <th>0</th>\n",
       "      <td>vhigh</td>\n",
       "      <td>vhigh</td>\n",
       "      <td>2</td>\n",
       "      <td>2</td>\n",
       "      <td>small</td>\n",
       "      <td>med</td>\n",
       "      <td>unacc</td>\n",
       "    </tr>\n",
       "    <tr>\n",
       "      <th>1</th>\n",
       "      <td>vhigh</td>\n",
       "      <td>vhigh</td>\n",
       "      <td>2</td>\n",
       "      <td>2</td>\n",
       "      <td>small</td>\n",
       "      <td>high</td>\n",
       "      <td>unacc</td>\n",
       "    </tr>\n",
       "    <tr>\n",
       "      <th>2</th>\n",
       "      <td>vhigh</td>\n",
       "      <td>vhigh</td>\n",
       "      <td>2</td>\n",
       "      <td>2</td>\n",
       "      <td>med</td>\n",
       "      <td>low</td>\n",
       "      <td>unacc</td>\n",
       "    </tr>\n",
       "    <tr>\n",
       "      <th>3</th>\n",
       "      <td>vhigh</td>\n",
       "      <td>vhigh</td>\n",
       "      <td>2</td>\n",
       "      <td>2</td>\n",
       "      <td>med</td>\n",
       "      <td>med</td>\n",
       "      <td>unacc</td>\n",
       "    </tr>\n",
       "    <tr>\n",
       "      <th>4</th>\n",
       "      <td>vhigh</td>\n",
       "      <td>vhigh</td>\n",
       "      <td>2</td>\n",
       "      <td>2</td>\n",
       "      <td>med</td>\n",
       "      <td>high</td>\n",
       "      <td>unacc</td>\n",
       "    </tr>\n",
       "  </tbody>\n",
       "</table>\n",
       "</div>"
      ],
      "text/plain": [
       "  buying  maint doors persons lug_boot safety  class\n",
       "0  vhigh  vhigh     2       2    small    med  unacc\n",
       "1  vhigh  vhigh     2       2    small   high  unacc\n",
       "2  vhigh  vhigh     2       2      med    low  unacc\n",
       "3  vhigh  vhigh     2       2      med    med  unacc\n",
       "4  vhigh  vhigh     2       2      med   high  unacc"
      ]
     },
     "execution_count": 10,
     "metadata": {},
     "output_type": "execute_result"
    }
   ],
   "source": [
    "df.head()"
   ]
  },
  {
   "cell_type": "code",
   "execution_count": 11,
   "id": "b677cebe",
   "metadata": {},
   "outputs": [
    {
     "name": "stdout",
     "output_type": "stream",
     "text": [
      "high     432\n",
      "med      432\n",
      "low      432\n",
      "vhigh    431\n",
      "Name: buying, dtype: int64\n",
      "high     432\n",
      "med      432\n",
      "low      432\n",
      "vhigh    431\n",
      "Name: maint, dtype: int64\n",
      "3        432\n",
      "4        432\n",
      "5more    432\n",
      "2        431\n",
      "Name: doors, dtype: int64\n",
      "4       576\n",
      "more    576\n",
      "2       575\n",
      "Name: persons, dtype: int64\n",
      "med      576\n",
      "big      576\n",
      "small    575\n",
      "Name: lug_boot, dtype: int64\n",
      "med     576\n",
      "high    576\n",
      "low     575\n",
      "Name: safety, dtype: int64\n",
      "unacc    1209\n",
      "acc       384\n",
      "good       69\n",
      "vgood      65\n",
      "Name: class, dtype: int64\n"
     ]
    }
   ],
   "source": [
    "# frquency distribution of categorical data's\n",
    "col_names = ['buying', 'maint', 'doors', 'persons', 'lug_boot', 'safety', 'class']\n",
    "\n",
    "for col in col_names:\n",
    "    print(df[col].value_counts())"
   ]
  },
  {
   "cell_type": "code",
   "execution_count": 12,
   "id": "550f6465",
   "metadata": {},
   "outputs": [
    {
     "name": "stdout",
     "output_type": "stream",
     "text": [
      "<class 'pandas.core.frame.DataFrame'>\n",
      "RangeIndex: 1727 entries, 0 to 1726\n",
      "Data columns (total 7 columns):\n",
      " #   Column    Non-Null Count  Dtype \n",
      "---  ------    --------------  ----- \n",
      " 0   buying    1727 non-null   object\n",
      " 1   maint     1727 non-null   object\n",
      " 2   doors     1727 non-null   object\n",
      " 3   persons   1727 non-null   object\n",
      " 4   lug_boot  1727 non-null   object\n",
      " 5   safety    1727 non-null   object\n",
      " 6   class     1727 non-null   object\n",
      "dtypes: object(7)\n",
      "memory usage: 94.6+ KB\n"
     ]
    }
   ],
   "source": [
    "df.info()"
   ]
  },
  {
   "cell_type": "code",
   "execution_count": 13,
   "id": "ee2ce185",
   "metadata": {},
   "outputs": [],
   "source": [
    "X= df.drop('class',axis=1)\n",
    "y=df['class']"
   ]
  },
  {
   "cell_type": "code",
   "execution_count": 14,
   "id": "8bf4b60f",
   "metadata": {},
   "outputs": [],
   "source": [
    "from sklearn.model_selection import train_test_split\n",
    "Xtrain,Xtest,ytrain,ytest = train_test_split(X,y,test_size=0.2,random_state=0)"
   ]
  },
  {
   "cell_type": "code",
   "execution_count": 15,
   "id": "168637e0",
   "metadata": {},
   "outputs": [
    {
     "data": {
      "text/plain": [
       "((1381, 6), (346,))"
      ]
     },
     "execution_count": 15,
     "metadata": {},
     "output_type": "execute_result"
    }
   ],
   "source": [
    "Xtrain.shape,ytest.shape"
   ]
  },
  {
   "cell_type": "code",
   "execution_count": 16,
   "id": "57be972b",
   "metadata": {},
   "outputs": [
    {
     "data": {
      "text/html": [
       "<div>\n",
       "<style scoped>\n",
       "    .dataframe tbody tr th:only-of-type {\n",
       "        vertical-align: middle;\n",
       "    }\n",
       "\n",
       "    .dataframe tbody tr th {\n",
       "        vertical-align: top;\n",
       "    }\n",
       "\n",
       "    .dataframe thead th {\n",
       "        text-align: right;\n",
       "    }\n",
       "</style>\n",
       "<table border=\"1\" class=\"dataframe\">\n",
       "  <thead>\n",
       "    <tr style=\"text-align: right;\">\n",
       "      <th></th>\n",
       "      <th>buying</th>\n",
       "      <th>maint</th>\n",
       "      <th>doors</th>\n",
       "      <th>persons</th>\n",
       "      <th>lug_boot</th>\n",
       "      <th>safety</th>\n",
       "    </tr>\n",
       "  </thead>\n",
       "  <tbody>\n",
       "    <tr>\n",
       "      <th>1648</th>\n",
       "      <td>low</td>\n",
       "      <td>low</td>\n",
       "      <td>3</td>\n",
       "      <td>2</td>\n",
       "      <td>small</td>\n",
       "      <td>high</td>\n",
       "    </tr>\n",
       "    <tr>\n",
       "      <th>1465</th>\n",
       "      <td>low</td>\n",
       "      <td>high</td>\n",
       "      <td>4</td>\n",
       "      <td>2</td>\n",
       "      <td>big</td>\n",
       "      <td>high</td>\n",
       "    </tr>\n",
       "    <tr>\n",
       "      <th>361</th>\n",
       "      <td>vhigh</td>\n",
       "      <td>low</td>\n",
       "      <td>3</td>\n",
       "      <td>4</td>\n",
       "      <td>small</td>\n",
       "      <td>high</td>\n",
       "    </tr>\n",
       "    <tr>\n",
       "      <th>315</th>\n",
       "      <td>vhigh</td>\n",
       "      <td>med</td>\n",
       "      <td>5more</td>\n",
       "      <td>more</td>\n",
       "      <td>small</td>\n",
       "      <td>med</td>\n",
       "    </tr>\n",
       "    <tr>\n",
       "      <th>1372</th>\n",
       "      <td>low</td>\n",
       "      <td>vhigh</td>\n",
       "      <td>4</td>\n",
       "      <td>more</td>\n",
       "      <td>med</td>\n",
       "      <td>high</td>\n",
       "    </tr>\n",
       "  </tbody>\n",
       "</table>\n",
       "</div>"
      ],
      "text/plain": [
       "     buying  maint  doors persons lug_boot safety\n",
       "1648    low    low      3       2    small   high\n",
       "1465    low   high      4       2      big   high\n",
       "361   vhigh    low      3       4    small   high\n",
       "315   vhigh    med  5more    more    small    med\n",
       "1372    low  vhigh      4    more      med   high"
      ]
     },
     "execution_count": 16,
     "metadata": {},
     "output_type": "execute_result"
    }
   ],
   "source": [
    "Xtrain.head()"
   ]
  },
  {
   "cell_type": "code",
   "execution_count": 17,
   "id": "b22adafa",
   "metadata": {},
   "outputs": [],
   "source": [
    "# see all are categorical we should encode the dataset\n",
    "import category_encoders as ce\n",
    "encoder = ce.OrdinalEncoder(['buying', 'maint', 'doors', 'persons', 'lug_boot', 'safety', 'class'])\n",
    "Xtrain = encoder.fit_transform(Xtrain)\n",
    "Xtest = encoder.transform(Xtest)"
   ]
  },
  {
   "cell_type": "code",
   "execution_count": 18,
   "id": "0c759375",
   "metadata": {},
   "outputs": [
    {
     "data": {
      "text/html": [
       "<div>\n",
       "<style scoped>\n",
       "    .dataframe tbody tr th:only-of-type {\n",
       "        vertical-align: middle;\n",
       "    }\n",
       "\n",
       "    .dataframe tbody tr th {\n",
       "        vertical-align: top;\n",
       "    }\n",
       "\n",
       "    .dataframe thead th {\n",
       "        text-align: right;\n",
       "    }\n",
       "</style>\n",
       "<table border=\"1\" class=\"dataframe\">\n",
       "  <thead>\n",
       "    <tr style=\"text-align: right;\">\n",
       "      <th></th>\n",
       "      <th>buying</th>\n",
       "      <th>maint</th>\n",
       "      <th>doors</th>\n",
       "      <th>persons</th>\n",
       "      <th>lug_boot</th>\n",
       "      <th>safety</th>\n",
       "    </tr>\n",
       "  </thead>\n",
       "  <tbody>\n",
       "    <tr>\n",
       "      <th>1648</th>\n",
       "      <td>1</td>\n",
       "      <td>1</td>\n",
       "      <td>1</td>\n",
       "      <td>1</td>\n",
       "      <td>1</td>\n",
       "      <td>1</td>\n",
       "    </tr>\n",
       "    <tr>\n",
       "      <th>1465</th>\n",
       "      <td>1</td>\n",
       "      <td>2</td>\n",
       "      <td>2</td>\n",
       "      <td>1</td>\n",
       "      <td>2</td>\n",
       "      <td>1</td>\n",
       "    </tr>\n",
       "    <tr>\n",
       "      <th>361</th>\n",
       "      <td>2</td>\n",
       "      <td>1</td>\n",
       "      <td>1</td>\n",
       "      <td>2</td>\n",
       "      <td>1</td>\n",
       "      <td>1</td>\n",
       "    </tr>\n",
       "    <tr>\n",
       "      <th>315</th>\n",
       "      <td>2</td>\n",
       "      <td>3</td>\n",
       "      <td>3</td>\n",
       "      <td>3</td>\n",
       "      <td>1</td>\n",
       "      <td>2</td>\n",
       "    </tr>\n",
       "    <tr>\n",
       "      <th>1372</th>\n",
       "      <td>1</td>\n",
       "      <td>4</td>\n",
       "      <td>2</td>\n",
       "      <td>3</td>\n",
       "      <td>3</td>\n",
       "      <td>1</td>\n",
       "    </tr>\n",
       "  </tbody>\n",
       "</table>\n",
       "</div>"
      ],
      "text/plain": [
       "      buying  maint  doors  persons  lug_boot  safety\n",
       "1648       1      1      1        1         1       1\n",
       "1465       1      2      2        1         2       1\n",
       "361        2      1      1        2         1       1\n",
       "315        2      3      3        3         1       2\n",
       "1372       1      4      2        3         3       1"
      ]
     },
     "execution_count": 18,
     "metadata": {},
     "output_type": "execute_result"
    }
   ],
   "source": [
    "Xtrain.head()"
   ]
  },
  {
   "cell_type": "code",
   "execution_count": 19,
   "id": "a54ebe35",
   "metadata": {},
   "outputs": [
    {
     "data": {
      "text/html": [
       "<div>\n",
       "<style scoped>\n",
       "    .dataframe tbody tr th:only-of-type {\n",
       "        vertical-align: middle;\n",
       "    }\n",
       "\n",
       "    .dataframe tbody tr th {\n",
       "        vertical-align: top;\n",
       "    }\n",
       "\n",
       "    .dataframe thead th {\n",
       "        text-align: right;\n",
       "    }\n",
       "</style>\n",
       "<table border=\"1\" class=\"dataframe\">\n",
       "  <thead>\n",
       "    <tr style=\"text-align: right;\">\n",
       "      <th></th>\n",
       "      <th>buying</th>\n",
       "      <th>maint</th>\n",
       "      <th>doors</th>\n",
       "      <th>persons</th>\n",
       "      <th>lug_boot</th>\n",
       "      <th>safety</th>\n",
       "    </tr>\n",
       "  </thead>\n",
       "  <tbody>\n",
       "    <tr>\n",
       "      <th>1318</th>\n",
       "      <td>1</td>\n",
       "      <td>4</td>\n",
       "      <td>4</td>\n",
       "      <td>3</td>\n",
       "      <td>3</td>\n",
       "      <td>1</td>\n",
       "    </tr>\n",
       "    <tr>\n",
       "      <th>124</th>\n",
       "      <td>2</td>\n",
       "      <td>2</td>\n",
       "      <td>4</td>\n",
       "      <td>2</td>\n",
       "      <td>2</td>\n",
       "      <td>1</td>\n",
       "    </tr>\n",
       "    <tr>\n",
       "      <th>648</th>\n",
       "      <td>3</td>\n",
       "      <td>3</td>\n",
       "      <td>4</td>\n",
       "      <td>1</td>\n",
       "      <td>1</td>\n",
       "      <td>2</td>\n",
       "    </tr>\n",
       "    <tr>\n",
       "      <th>249</th>\n",
       "      <td>2</td>\n",
       "      <td>3</td>\n",
       "      <td>1</td>\n",
       "      <td>1</td>\n",
       "      <td>2</td>\n",
       "      <td>2</td>\n",
       "    </tr>\n",
       "    <tr>\n",
       "      <th>1598</th>\n",
       "      <td>1</td>\n",
       "      <td>3</td>\n",
       "      <td>3</td>\n",
       "      <td>1</td>\n",
       "      <td>2</td>\n",
       "      <td>3</td>\n",
       "    </tr>\n",
       "  </tbody>\n",
       "</table>\n",
       "</div>"
      ],
      "text/plain": [
       "      buying  maint  doors  persons  lug_boot  safety\n",
       "1318       1      4      4        3         3       1\n",
       "124        2      2      4        2         2       1\n",
       "648        3      3      4        1         1       2\n",
       "249        2      3      1        1         2       2\n",
       "1598       1      3      3        1         2       3"
      ]
     },
     "execution_count": 19,
     "metadata": {},
     "output_type": "execute_result"
    }
   ],
   "source": [
    "Xtest.head()"
   ]
  },
  {
   "cell_type": "code",
   "execution_count": 50,
   "id": "3a0e2394",
   "metadata": {},
   "outputs": [
    {
     "data": {
      "text/html": [
       "<style>#sk-container-id-3 {color: black;}#sk-container-id-3 pre{padding: 0;}#sk-container-id-3 div.sk-toggleable {background-color: white;}#sk-container-id-3 label.sk-toggleable__label {cursor: pointer;display: block;width: 100%;margin-bottom: 0;padding: 0.3em;box-sizing: border-box;text-align: center;}#sk-container-id-3 label.sk-toggleable__label-arrow:before {content: \"▸\";float: left;margin-right: 0.25em;color: #696969;}#sk-container-id-3 label.sk-toggleable__label-arrow:hover:before {color: black;}#sk-container-id-3 div.sk-estimator:hover label.sk-toggleable__label-arrow:before {color: black;}#sk-container-id-3 div.sk-toggleable__content {max-height: 0;max-width: 0;overflow: hidden;text-align: left;background-color: #f0f8ff;}#sk-container-id-3 div.sk-toggleable__content pre {margin: 0.2em;color: black;border-radius: 0.25em;background-color: #f0f8ff;}#sk-container-id-3 input.sk-toggleable__control:checked~div.sk-toggleable__content {max-height: 200px;max-width: 100%;overflow: auto;}#sk-container-id-3 input.sk-toggleable__control:checked~label.sk-toggleable__label-arrow:before {content: \"▾\";}#sk-container-id-3 div.sk-estimator input.sk-toggleable__control:checked~label.sk-toggleable__label {background-color: #d4ebff;}#sk-container-id-3 div.sk-label input.sk-toggleable__control:checked~label.sk-toggleable__label {background-color: #d4ebff;}#sk-container-id-3 input.sk-hidden--visually {border: 0;clip: rect(1px 1px 1px 1px);clip: rect(1px, 1px, 1px, 1px);height: 1px;margin: -1px;overflow: hidden;padding: 0;position: absolute;width: 1px;}#sk-container-id-3 div.sk-estimator {font-family: monospace;background-color: #f0f8ff;border: 1px dotted black;border-radius: 0.25em;box-sizing: border-box;margin-bottom: 0.5em;}#sk-container-id-3 div.sk-estimator:hover {background-color: #d4ebff;}#sk-container-id-3 div.sk-parallel-item::after {content: \"\";width: 100%;border-bottom: 1px solid gray;flex-grow: 1;}#sk-container-id-3 div.sk-label:hover label.sk-toggleable__label {background-color: #d4ebff;}#sk-container-id-3 div.sk-serial::before {content: \"\";position: absolute;border-left: 1px solid gray;box-sizing: border-box;top: 0;bottom: 0;left: 50%;z-index: 0;}#sk-container-id-3 div.sk-serial {display: flex;flex-direction: column;align-items: center;background-color: white;padding-right: 0.2em;padding-left: 0.2em;position: relative;}#sk-container-id-3 div.sk-item {position: relative;z-index: 1;}#sk-container-id-3 div.sk-parallel {display: flex;align-items: stretch;justify-content: center;background-color: white;position: relative;}#sk-container-id-3 div.sk-item::before, #sk-container-id-3 div.sk-parallel-item::before {content: \"\";position: absolute;border-left: 1px solid gray;box-sizing: border-box;top: 0;bottom: 0;left: 50%;z-index: -1;}#sk-container-id-3 div.sk-parallel-item {display: flex;flex-direction: column;z-index: 1;position: relative;background-color: white;}#sk-container-id-3 div.sk-parallel-item:first-child::after {align-self: flex-end;width: 50%;}#sk-container-id-3 div.sk-parallel-item:last-child::after {align-self: flex-start;width: 50%;}#sk-container-id-3 div.sk-parallel-item:only-child::after {width: 0;}#sk-container-id-3 div.sk-dashed-wrapped {border: 1px dashed gray;margin: 0 0.4em 0.5em 0.4em;box-sizing: border-box;padding-bottom: 0.4em;background-color: white;}#sk-container-id-3 div.sk-label label {font-family: monospace;font-weight: bold;display: inline-block;line-height: 1.2em;}#sk-container-id-3 div.sk-label-container {text-align: center;}#sk-container-id-3 div.sk-container {/* jupyter's `normalize.less` sets `[hidden] { display: none; }` but bootstrap.min.css set `[hidden] { display: none !important; }` so we also need the `!important` here to be able to override the default hidden behavior on the sphinx rendered scikit-learn.org. See: https://github.com/scikit-learn/scikit-learn/issues/21755 */display: inline-block !important;position: relative;}#sk-container-id-3 div.sk-text-repr-fallback {display: none;}</style><div id=\"sk-container-id-3\" class=\"sk-top-container\"><div class=\"sk-text-repr-fallback\"><pre>DecisionTreeClassifier(max_depth=5, random_state=0)</pre><b>In a Jupyter environment, please rerun this cell to show the HTML representation or trust the notebook. <br />On GitHub, the HTML representation is unable to render, please try loading this page with nbviewer.org.</b></div><div class=\"sk-container\" hidden><div class=\"sk-item\"><div class=\"sk-estimator sk-toggleable\"><input class=\"sk-toggleable__control sk-hidden--visually\" id=\"sk-estimator-id-3\" type=\"checkbox\" checked><label for=\"sk-estimator-id-3\" class=\"sk-toggleable__label sk-toggleable__label-arrow\">DecisionTreeClassifier</label><div class=\"sk-toggleable__content\"><pre>DecisionTreeClassifier(max_depth=5, random_state=0)</pre></div></div></div></div></div>"
      ],
      "text/plain": [
       "DecisionTreeClassifier(max_depth=5, random_state=0)"
      ]
     },
     "execution_count": 50,
     "metadata": {},
     "output_type": "execute_result"
    }
   ],
   "source": [
    "# decision classifier\n",
    "from sklearn.tree import DecisionTreeClassifier\n",
    "dec = DecisionTreeClassifier(criterion='gini',splitter='best',max_depth=5,random_state=0)\n",
    "dec.fit(Xtrain,ytrain)\n"
   ]
  },
  {
   "cell_type": "code",
   "execution_count": 51,
   "id": "ccb833c6",
   "metadata": {},
   "outputs": [],
   "source": [
    "ypred = dec.predict(Xtest)"
   ]
  },
  {
   "cell_type": "code",
   "execution_count": 52,
   "id": "47a5d936",
   "metadata": {},
   "outputs": [
    {
     "name": "stdout",
     "output_type": "stream",
     "text": [
      "Decision tree model accuracy: 0.8468\n"
     ]
    }
   ],
   "source": [
    "from sklearn.metrics import accuracy_score\n",
    "print('Decision tree model accuracy: {0:0.4f}'.format(accuracy_score(ytest,ypred)))"
   ]
  },
  {
   "cell_type": "code",
   "execution_count": 53,
   "id": "f3056db1",
   "metadata": {},
   "outputs": [],
   "source": [
    "# training and set accuracy"
   ]
  },
  {
   "cell_type": "code",
   "execution_count": 54,
   "id": "79c40b92",
   "metadata": {},
   "outputs": [
    {
     "name": "stdout",
     "output_type": "stream",
     "text": [
      "Training accuracy: 0.8602\n"
     ]
    }
   ],
   "source": [
    "ypred_train = dec.predict(Xtrain)\n",
    "print('Training accuracy: {0:0.4f}'.format(accuracy_score(ytrain,ypred_train)))"
   ]
  },
  {
   "cell_type": "code",
   "execution_count": 55,
   "id": "341c0d8a",
   "metadata": {},
   "outputs": [
    {
     "name": "stdout",
     "output_type": "stream",
     "text": [
      "Decision tree model accuracy: 0.8468\n"
     ]
    }
   ],
   "source": [
    "ypred_test = dec.predict(Xtest)\n",
    "print('Decision tree model accuracy: {0:0.4f}'.format(accuracy_score(ytest,ypred_test)))\n"
   ]
  },
  {
   "cell_type": "code",
   "execution_count": 56,
   "id": "01002e8a",
   "metadata": {},
   "outputs": [
    {
     "name": "stdout",
     "output_type": "stream",
     "text": [
      "Training set score: 0.8602\n",
      "Test set score: 0.8468\n"
     ]
    }
   ],
   "source": [
    "print('Training set score: {:.4f}'.format(dec.score(Xtrain, ytrain)))\n",
    "\n",
    "print('Test set score: {:.4f}'.format(dec.score(Xtest, ytest)))"
   ]
  },
  {
   "cell_type": "code",
   "execution_count": 57,
   "id": "4b4edd6c",
   "metadata": {},
   "outputs": [],
   "source": [
    "# visualize the decision tree"
   ]
  },
  {
   "cell_type": "code",
   "execution_count": 58,
   "id": "71e06847",
   "metadata": {
    "scrolled": true
   },
   "outputs": [
    {
     "data": {
      "text/plain": [
       "[Text(0.5, 0.9166666666666666, 'x[3] <= 1.5\\ngini = 0.454\\nsamples = 1381\\nvalue = [307, 55, 970, 49]'),\n",
       " Text(0.4375, 0.75, 'gini = 0.0\\nsamples = 463\\nvalue = [0, 0, 463, 0]'),\n",
       " Text(0.5625, 0.75, 'x[5] <= 2.5\\ngini = 0.577\\nsamples = 918\\nvalue = [307, 55, 507, 49]'),\n",
       " Text(0.5, 0.5833333333333334, 'x[1] <= 3.5\\ngini = 0.627\\nsamples = 616\\nvalue = [307, 55, 205, 49]'),\n",
       " Text(0.25, 0.4166666666666667, 'x[0] <= 1.5\\ngini = 0.623\\nsamples = 464\\nvalue = [254, 55, 106, 49]'),\n",
       " Text(0.125, 0.25, 'x[5] <= 1.5\\ngini = 0.696\\nsamples = 113\\nvalue = [40, 34, 6, 33]'),\n",
       " Text(0.0625, 0.08333333333333333, 'gini = 0.584\\nsamples = 56\\nvalue = [8, 12, 3, 33]'),\n",
       " Text(0.1875, 0.08333333333333333, 'gini = 0.533\\nsamples = 57\\nvalue = [32, 22, 3, 0]'),\n",
       " Text(0.375, 0.25, 'x[4] <= 1.5\\ngini = 0.541\\nsamples = 351\\nvalue = [214, 21, 100, 16]'),\n",
       " Text(0.3125, 0.08333333333333333, 'gini = 0.55\\nsamples = 118\\nvalue = [50, 7, 61, 0]'),\n",
       " Text(0.4375, 0.08333333333333333, 'gini = 0.468\\nsamples = 233\\nvalue = [164, 14, 39, 16]'),\n",
       " Text(0.75, 0.4166666666666667, 'x[0] <= 1.5\\ngini = 0.454\\nsamples = 152\\nvalue = [53, 0, 99, 0]'),\n",
       " Text(0.625, 0.25, 'x[4] <= 1.5\\ngini = 0.394\\nsamples = 37\\nvalue = [27, 0, 10, 0]'),\n",
       " Text(0.5625, 0.08333333333333333, 'gini = 0.463\\nsamples = 11\\nvalue = [4, 0, 7, 0]'),\n",
       " Text(0.6875, 0.08333333333333333, 'gini = 0.204\\nsamples = 26\\nvalue = [23, 0, 3, 0]'),\n",
       " Text(0.875, 0.25, 'x[0] <= 3.5\\ngini = 0.35\\nsamples = 115\\nvalue = [26, 0, 89, 0]'),\n",
       " Text(0.8125, 0.08333333333333333, 'gini = 0.0\\nsamples = 77\\nvalue = [0, 0, 77, 0]'),\n",
       " Text(0.9375, 0.08333333333333333, 'gini = 0.432\\nsamples = 38\\nvalue = [26, 0, 12, 0]'),\n",
       " Text(0.625, 0.5833333333333334, 'gini = 0.0\\nsamples = 302\\nvalue = [0, 0, 302, 0]')]"
      ]
     },
     "execution_count": 58,
     "metadata": {},
     "output_type": "execute_result"
    },
    {
     "data": {
      "image/png": "[encoded data removed]",
      "text/plain": [
       "<Figure size 1200x800 with 1 Axes>"
      ]
     },
     "metadata": {},
     "output_type": "display_data"
    }
   ],
   "source": [
    "plt.figure(figsize=(12,8))\n",
    "\n",
    "from sklearn import tree\n",
    "\n",
    "tree.plot_tree(dec.fit(Xtrain, ytrain))"
   ]
  },
  {
   "cell_type": "code",
   "execution_count": 29,
   "id": "4aceb3c6",
   "metadata": {},
   "outputs": [],
   "source": [
    "# visualize decision tree with graphvia"
   ]
  },
  {
   "cell_type": "code",
   "execution_count": null,
   "id": "1cafd034",
   "metadata": {},
   "outputs": [],
   "source": []
  },
  {
   "cell_type": "code",
   "execution_count": 33,
   "id": "d5a434a8",
   "metadata": {},
   "outputs": [
    {
     "name": "stdout",
     "output_type": "stream",
     "text": [
      "Requirement already satisfied: graphviz in c:\\users\\user\\anaconda3\\lib\\site-packages (0.20.1)\n",
      "Note: you may need to restart the kernel to use updated packages.\n"
     ]
    }
   ],
   "source": [
    "pip install graphviz"
   ]
  },
  {
   "cell_type": "code",
   "execution_count": 59,
   "id": "40db237b",
   "metadata": {},
   "outputs": [
    {
     "data": {
      "image/svg+xml": [
       "<?xml version=\"1.0\" encoding=\"UTF-8\" standalone=\"no\"?>\n",
       "<!DOCTYPE svg PUBLIC \"-//W3C//DTD SVG 1.1//EN\"\n",
       " \"http://www.w3.org/Graphics/SVG/1.1/DTD/svg11.dtd\">\n",
       "<!-- Generated by graphviz version 9.0.0 (20230911.1827)\n",
       " -->\n",
       "<!-- Title: Tree Pages: 1 -->\n",
       "<svg width=\"1279pt\" height=\"715pt\"\n",
       " viewBox=\"0.00 0.00 1279.25 714.50\" xmlns=\"http://www.w3.org/2000/svg\" xmlns:xlink=\"http://www.w3.org/1999/xlink\">\n",
       "<g id=\"graph0\" class=\"graph\" transform=\"scale(1 1) rotate(0) translate(4 710.5)\">\n",
       "<title>Tree</title>\n",
       "<polygon fill=\"white\" stroke=\"none\" points=\"-4,4 -4,-710.5 1275.25,-710.5 1275.25,4 -4,4\"/>\n",
       "<!-- 0 -->\n",
       "<g id=\"node1\" class=\"node\">\n",
       "<title>0</title>\n",
       "<path fill=\"#85c3ef\" stroke=\"black\" d=\"M722.75,-706.5C722.75,-706.5 569.5,-706.5 569.5,-706.5 563.5,-706.5 557.5,-700.5 557.5,-694.5 557.5,-694.5 557.5,-628 557.5,-628 557.5,-622 563.5,-616 569.5,-616 569.5,-616 722.75,-616 722.75,-616 728.75,-616 734.75,-622 734.75,-628 734.75,-628 734.75,-694.5 734.75,-694.5 734.75,-700.5 728.75,-706.5 722.75,-706.5\"/>\n",
       "<text text-anchor=\"start\" x=\"602.62\" y=\"-689.2\" font-family=\"Helvetica,sans-Serif\" font-size=\"14.00\">persons ≤ 1.5</text>\n",
       "<text text-anchor=\"start\" x=\"609\" y=\"-672.7\" font-family=\"Helvetica,sans-Serif\" font-size=\"14.00\">gini = 0.454</text>\n",
       "<text text-anchor=\"start\" x=\"594.75\" y=\"-656.2\" font-family=\"Helvetica,sans-Serif\" font-size=\"14.00\">samples = 1381</text>\n",
       "<text text-anchor=\"start\" x=\"565.5\" y=\"-639.7\" font-family=\"Helvetica,sans-Serif\" font-size=\"14.00\">value = [307, 55, 970, 49]</text>\n",
       "<text text-anchor=\"start\" x=\"610.5\" y=\"-623.2\" font-family=\"Helvetica,sans-Serif\" font-size=\"14.00\">class = acc</text>\n",
       "</g>\n",
       "<!-- 1 -->\n",
       "<g id=\"node2\" class=\"node\">\n",
       "<title>1</title>\n",
       "<path fill=\"#399de5\" stroke=\"black\" d=\"M617.25,-571.75C617.25,-571.75 497,-571.75 497,-571.75 491,-571.75 485,-565.75 485,-559.75 485,-559.75 485,-509.75 485,-509.75 485,-503.75 491,-497.75 497,-497.75 497,-497.75 617.25,-497.75 617.25,-497.75 623.25,-497.75 629.25,-503.75 629.25,-509.75 629.25,-509.75 629.25,-559.75 629.25,-559.75 629.25,-565.75 623.25,-571.75 617.25,-571.75\"/>\n",
       "<text text-anchor=\"start\" x=\"528.25\" y=\"-554.45\" font-family=\"Helvetica,sans-Serif\" font-size=\"14.00\">gini = 0.0</text>\n",
       "<text text-anchor=\"start\" x=\"509.88\" y=\"-537.95\" font-family=\"Helvetica,sans-Serif\" font-size=\"14.00\">samples = 463</text>\n",
       "<text text-anchor=\"start\" x=\"493\" y=\"-521.45\" font-family=\"Helvetica,sans-Serif\" font-size=\"14.00\">value = [0, 0, 463, 0]</text>\n",
       "<text text-anchor=\"start\" x=\"521.5\" y=\"-504.95\" font-family=\"Helvetica,sans-Serif\" font-size=\"14.00\">class = acc</text>\n",
       "</g>\n",
       "<!-- 0&#45;&gt;1 -->\n",
       "<g id=\"edge1\" class=\"edge\">\n",
       "<title>0&#45;&gt;1</title>\n",
       "<path fill=\"none\" stroke=\"black\" d=\"M614.25,-615.65C606.22,-604.43 597.59,-592.36 589.54,-581.1\"/>\n",
       "<polygon fill=\"black\" stroke=\"black\" points=\"592.48,-579.19 583.82,-573.09 586.78,-583.26 592.48,-579.19\"/>\n",
       "<text text-anchor=\"middle\" x=\"578.84\" y=\"-591.47\" font-family=\"Helvetica,sans-Serif\" font-size=\"14.00\">True</text>\n",
       "</g>\n",
       "<!-- 2 -->\n",
       "<g id=\"node3\" class=\"node\">\n",
       "<title>2</title>\n",
       "<path fill=\"#bedff6\" stroke=\"black\" d=\"M812.75,-580C812.75,-580 659.5,-580 659.5,-580 653.5,-580 647.5,-574 647.5,-568 647.5,-568 647.5,-501.5 647.5,-501.5 647.5,-495.5 653.5,-489.5 659.5,-489.5 659.5,-489.5 812.75,-489.5 812.75,-489.5 818.75,-489.5 824.75,-495.5 824.75,-501.5 824.75,-501.5 824.75,-568 824.75,-568 824.75,-574 818.75,-580 812.75,-580\"/>\n",
       "<text text-anchor=\"start\" x=\"699.38\" y=\"-562.7\" font-family=\"Helvetica,sans-Serif\" font-size=\"14.00\">safety ≤ 2.5</text>\n",
       "<text text-anchor=\"start\" x=\"699\" y=\"-546.2\" font-family=\"Helvetica,sans-Serif\" font-size=\"14.00\">gini = 0.577</text>\n",
       "<text text-anchor=\"start\" x=\"688.88\" y=\"-529.7\" font-family=\"Helvetica,sans-Serif\" font-size=\"14.00\">samples = 918</text>\n",
       "<text text-anchor=\"start\" x=\"655.5\" y=\"-513.2\" font-family=\"Helvetica,sans-Serif\" font-size=\"14.00\">value = [307, 55, 507, 49]</text>\n",
       "<text text-anchor=\"start\" x=\"700.5\" y=\"-496.7\" font-family=\"Helvetica,sans-Serif\" font-size=\"14.00\">class = acc</text>\n",
       "</g>\n",
       "<!-- 0&#45;&gt;2 -->\n",
       "<g id=\"edge2\" class=\"edge\">\n",
       "<title>0&#45;&gt;2</title>\n",
       "<path fill=\"none\" stroke=\"black\" d=\"M678.36,-615.65C684.44,-607.25 690.85,-598.38 697.11,-589.73\"/>\n",
       "<polygon fill=\"black\" stroke=\"black\" points=\"699.9,-591.83 702.92,-581.68 694.23,-587.73 699.9,-591.83\"/>\n",
       "<text text-anchor=\"middle\" x=\"707.78\" y=\"-600.09\" font-family=\"Helvetica,sans-Serif\" font-size=\"14.00\">False</text>\n",
       "</g>\n",
       "<!-- 3 -->\n",
       "<g id=\"node4\" class=\"node\">\n",
       "<title>3</title>\n",
       "<path fill=\"#f9e0ce\" stroke=\"black\" d=\"M723.75,-453.5C723.75,-453.5 570.5,-453.5 570.5,-453.5 564.5,-453.5 558.5,-447.5 558.5,-441.5 558.5,-441.5 558.5,-375 558.5,-375 558.5,-369 564.5,-363 570.5,-363 570.5,-363 723.75,-363 723.75,-363 729.75,-363 735.75,-369 735.75,-375 735.75,-375 735.75,-441.5 735.75,-441.5 735.75,-447.5 729.75,-453.5 723.75,-453.5\"/>\n",
       "<text text-anchor=\"start\" x=\"612.62\" y=\"-436.2\" font-family=\"Helvetica,sans-Serif\" font-size=\"14.00\">maint ≤ 3.5</text>\n",
       "<text text-anchor=\"start\" x=\"610\" y=\"-419.7\" font-family=\"Helvetica,sans-Serif\" font-size=\"14.00\">gini = 0.627</text>\n",
       "<text text-anchor=\"start\" x=\"599.88\" y=\"-403.2\" font-family=\"Helvetica,sans-Serif\" font-size=\"14.00\">samples = 616</text>\n",
       "<text text-anchor=\"start\" x=\"566.5\" y=\"-386.7\" font-family=\"Helvetica,sans-Serif\" font-size=\"14.00\">value = [307, 55, 205, 49]</text>\n",
       "<text text-anchor=\"start\" x=\"604\" y=\"-370.2\" font-family=\"Helvetica,sans-Serif\" font-size=\"14.00\">class = unacc</text>\n",
       "</g>\n",
       "<!-- 2&#45;&gt;3 -->\n",
       "<g id=\"edge3\" class=\"edge\">\n",
       "<title>2&#45;&gt;3</title>\n",
       "<path fill=\"none\" stroke=\"black\" d=\"M704.25,-489.15C698.24,-480.75 691.9,-471.88 685.71,-463.23\"/>\n",
       "<polygon fill=\"black\" stroke=\"black\" points=\"688.62,-461.28 679.96,-455.18 682.93,-465.35 688.62,-461.28\"/>\n",
       "</g>\n",
       "<!-- 18 -->\n",
       "<g id=\"node19\" class=\"node\">\n",
       "<title>18</title>\n",
       "<path fill=\"#399de5\" stroke=\"black\" d=\"M886.25,-445.25C886.25,-445.25 766,-445.25 766,-445.25 760,-445.25 754,-439.25 754,-433.25 754,-433.25 754,-383.25 754,-383.25 754,-377.25 760,-371.25 766,-371.25 766,-371.25 886.25,-371.25 886.25,-371.25 892.25,-371.25 898.25,-377.25 898.25,-383.25 898.25,-383.25 898.25,-433.25 898.25,-433.25 898.25,-439.25 892.25,-445.25 886.25,-445.25\"/>\n",
       "<text text-anchor=\"start\" x=\"797.25\" y=\"-427.95\" font-family=\"Helvetica,sans-Serif\" font-size=\"14.00\">gini = 0.0</text>\n",
       "<text text-anchor=\"start\" x=\"778.88\" y=\"-411.45\" font-family=\"Helvetica,sans-Serif\" font-size=\"14.00\">samples = 302</text>\n",
       "<text text-anchor=\"start\" x=\"762\" y=\"-394.95\" font-family=\"Helvetica,sans-Serif\" font-size=\"14.00\">value = [0, 0, 302, 0]</text>\n",
       "<text text-anchor=\"start\" x=\"790.5\" y=\"-378.45\" font-family=\"Helvetica,sans-Serif\" font-size=\"14.00\">class = acc</text>\n",
       "</g>\n",
       "<!-- 2&#45;&gt;18 -->\n",
       "<g id=\"edge18\" class=\"edge\">\n",
       "<title>2&#45;&gt;18</title>\n",
       "<path fill=\"none\" stroke=\"black\" d=\"M768.36,-489.15C776.48,-477.93 785.2,-465.86 793.35,-454.6\"/>\n",
       "<polygon fill=\"black\" stroke=\"black\" points=\"796.12,-456.74 799.14,-446.58 790.44,-452.64 796.12,-456.74\"/>\n",
       "</g>\n",
       "<!-- 4 -->\n",
       "<g id=\"node5\" class=\"node\">\n",
       "<title>4</title>\n",
       "<path fill=\"#f4cbad\" stroke=\"black\" d=\"M563.75,-327C563.75,-327 410.5,-327 410.5,-327 404.5,-327 398.5,-321 398.5,-315 398.5,-315 398.5,-248.5 398.5,-248.5 398.5,-242.5 404.5,-236.5 410.5,-236.5 410.5,-236.5 563.75,-236.5 563.75,-236.5 569.75,-236.5 575.75,-242.5 575.75,-248.5 575.75,-248.5 575.75,-315 575.75,-315 575.75,-321 569.75,-327 563.75,-327\"/>\n",
       "<text text-anchor=\"start\" x=\"448.88\" y=\"-309.7\" font-family=\"Helvetica,sans-Serif\" font-size=\"14.00\">buying ≤ 1.5</text>\n",
       "<text text-anchor=\"start\" x=\"450\" y=\"-293.2\" font-family=\"Helvetica,sans-Serif\" font-size=\"14.00\">gini = 0.623</text>\n",
       "<text text-anchor=\"start\" x=\"439.88\" y=\"-276.7\" font-family=\"Helvetica,sans-Serif\" font-size=\"14.00\">samples = 464</text>\n",
       "<text text-anchor=\"start\" x=\"406.5\" y=\"-260.2\" font-family=\"Helvetica,sans-Serif\" font-size=\"14.00\">value = [254, 55, 106, 49]</text>\n",
       "<text text-anchor=\"start\" x=\"444\" y=\"-243.7\" font-family=\"Helvetica,sans-Serif\" font-size=\"14.00\">class = unacc</text>\n",
       "</g>\n",
       "<!-- 3&#45;&gt;4 -->\n",
       "<g id=\"edge4\" class=\"edge\">\n",
       "<title>3&#45;&gt;4</title>\n",
       "<path fill=\"none\" stroke=\"black\" d=\"M589.81,-362.65C578.09,-353.54 565.67,-343.87 553.66,-334.52\"/>\n",
       "<polygon fill=\"black\" stroke=\"black\" points=\"555.81,-331.76 545.77,-328.38 551.51,-337.29 555.81,-331.76\"/>\n",
       "</g>\n",
       "<!-- 11 -->\n",
       "<g id=\"node12\" class=\"node\">\n",
       "<title>11</title>\n",
       "<path fill=\"#a3d1f3\" stroke=\"black\" d=\"M868.25,-327C868.25,-327 748,-327 748,-327 742,-327 736,-321 736,-315 736,-315 736,-248.5 736,-248.5 736,-242.5 742,-236.5 748,-236.5 748,-236.5 868.25,-236.5 868.25,-236.5 874.25,-236.5 880.25,-242.5 880.25,-248.5 880.25,-248.5 880.25,-315 880.25,-315 880.25,-321 874.25,-327 868.25,-327\"/>\n",
       "<text text-anchor=\"start\" x=\"769.88\" y=\"-309.7\" font-family=\"Helvetica,sans-Serif\" font-size=\"14.00\">buying ≤ 1.5</text>\n",
       "<text text-anchor=\"start\" x=\"771\" y=\"-293.2\" font-family=\"Helvetica,sans-Serif\" font-size=\"14.00\">gini = 0.454</text>\n",
       "<text text-anchor=\"start\" x=\"760.88\" y=\"-276.7\" font-family=\"Helvetica,sans-Serif\" font-size=\"14.00\">samples = 152</text>\n",
       "<text text-anchor=\"start\" x=\"744\" y=\"-260.2\" font-family=\"Helvetica,sans-Serif\" font-size=\"14.00\">value = [53, 0, 99, 0]</text>\n",
       "<text text-anchor=\"start\" x=\"772.5\" y=\"-243.7\" font-family=\"Helvetica,sans-Serif\" font-size=\"14.00\">class = acc</text>\n",
       "</g>\n",
       "<!-- 3&#45;&gt;11 -->\n",
       "<g id=\"edge11\" class=\"edge\">\n",
       "<title>3&#45;&gt;11</title>\n",
       "<path fill=\"none\" stroke=\"black\" d=\"M704.79,-362.65C716.7,-353.45 729.34,-343.68 741.53,-334.25\"/>\n",
       "<polygon fill=\"black\" stroke=\"black\" points=\"743.35,-337.26 749.12,-328.38 739.07,-331.73 743.35,-337.26\"/>\n",
       "</g>\n",
       "<!-- 5 -->\n",
       "<g id=\"node6\" class=\"node\">\n",
       "<title>5</title>\n",
       "<path fill=\"#fdf5f0\" stroke=\"black\" d=\"M298.38,-200.5C298.38,-200.5 169.88,-200.5 169.88,-200.5 163.88,-200.5 157.88,-194.5 157.88,-188.5 157.88,-188.5 157.88,-122 157.88,-122 157.88,-116 163.88,-110 169.88,-110 169.88,-110 298.38,-110 298.38,-110 304.38,-110 310.38,-116 310.38,-122 310.38,-122 310.38,-188.5 310.38,-188.5 310.38,-194.5 304.38,-200.5 298.38,-200.5\"/>\n",
       "<text text-anchor=\"start\" x=\"197.38\" y=\"-183.2\" font-family=\"Helvetica,sans-Serif\" font-size=\"14.00\">safety ≤ 1.5</text>\n",
       "<text text-anchor=\"start\" x=\"197\" y=\"-166.7\" font-family=\"Helvetica,sans-Serif\" font-size=\"14.00\">gini = 0.696</text>\n",
       "<text text-anchor=\"start\" x=\"186.88\" y=\"-150.2\" font-family=\"Helvetica,sans-Serif\" font-size=\"14.00\">samples = 113</text>\n",
       "<text text-anchor=\"start\" x=\"165.88\" y=\"-133.7\" font-family=\"Helvetica,sans-Serif\" font-size=\"14.00\">value = [40, 34, 6, 33]</text>\n",
       "<text text-anchor=\"start\" x=\"191\" y=\"-117.2\" font-family=\"Helvetica,sans-Serif\" font-size=\"14.00\">class = unacc</text>\n",
       "</g>\n",
       "<!-- 4&#45;&gt;5 -->\n",
       "<g id=\"edge5\" class=\"edge\">\n",
       "<title>4&#45;&gt;5</title>\n",
       "<path fill=\"none\" stroke=\"black\" d=\"M398.28,-237.03C373.13,-224.65 345.79,-211.2 320.77,-198.89\"/>\n",
       "<polygon fill=\"black\" stroke=\"black\" points=\"322.45,-195.81 311.93,-194.54 319.36,-202.09 322.45,-195.81\"/>\n",
       "</g>\n",
       "<!-- 8 -->\n",
       "<g id=\"node9\" class=\"node\">\n",
       "<title>8</title>\n",
       "<path fill=\"#f3c6a5\" stroke=\"black\" d=\"M563.75,-200.5C563.75,-200.5 410.5,-200.5 410.5,-200.5 404.5,-200.5 398.5,-194.5 398.5,-188.5 398.5,-188.5 398.5,-122 398.5,-122 398.5,-116 404.5,-110 410.5,-110 410.5,-110 563.75,-110 563.75,-110 569.75,-110 575.75,-116 575.75,-122 575.75,-122 575.75,-188.5 575.75,-188.5 575.75,-194.5 569.75,-200.5 563.75,-200.5\"/>\n",
       "<text text-anchor=\"start\" x=\"441.75\" y=\"-183.2\" font-family=\"Helvetica,sans-Serif\" font-size=\"14.00\">lug_boot ≤ 1.5</text>\n",
       "<text text-anchor=\"start\" x=\"450\" y=\"-166.7\" font-family=\"Helvetica,sans-Serif\" font-size=\"14.00\">gini = 0.541</text>\n",
       "<text text-anchor=\"start\" x=\"439.88\" y=\"-150.2\" font-family=\"Helvetica,sans-Serif\" font-size=\"14.00\">samples = 351</text>\n",
       "<text text-anchor=\"start\" x=\"406.5\" y=\"-133.7\" font-family=\"Helvetica,sans-Serif\" font-size=\"14.00\">value = [214, 21, 100, 16]</text>\n",
       "<text text-anchor=\"start\" x=\"444\" y=\"-117.2\" font-family=\"Helvetica,sans-Serif\" font-size=\"14.00\">class = unacc</text>\n",
       "</g>\n",
       "<!-- 4&#45;&gt;8 -->\n",
       "<g id=\"edge8\" class=\"edge\">\n",
       "<title>4&#45;&gt;8</title>\n",
       "<path fill=\"none\" stroke=\"black\" d=\"M487.12,-236.15C487.12,-228.47 487.12,-220.39 487.12,-212.44\"/>\n",
       "<polygon fill=\"black\" stroke=\"black\" points=\"490.63,-212.47 487.13,-202.47 483.63,-212.47 490.63,-212.47\"/>\n",
       "</g>\n",
       "<!-- 6 -->\n",
       "<g id=\"node7\" class=\"node\">\n",
       "<title>6</title>\n",
       "<path fill=\"#eca0f3\" stroke=\"black\" d=\"M132.25,-74C132.25,-74 12,-74 12,-74 6,-74 0,-68 0,-62 0,-62 0,-12 0,-12 0,-6 6,0 12,0 12,0 132.25,0 132.25,0 138.25,0 144.25,-6 144.25,-12 144.25,-12 144.25,-62 144.25,-62 144.25,-68 138.25,-74 132.25,-74\"/>\n",
       "<text text-anchor=\"start\" x=\"35\" y=\"-56.7\" font-family=\"Helvetica,sans-Serif\" font-size=\"14.00\">gini = 0.584</text>\n",
       "<text text-anchor=\"start\" x=\"29\" y=\"-40.2\" font-family=\"Helvetica,sans-Serif\" font-size=\"14.00\">samples = 56</text>\n",
       "<text text-anchor=\"start\" x=\"8\" y=\"-23.7\" font-family=\"Helvetica,sans-Serif\" font-size=\"14.00\">value = [8, 12, 3, 33]</text>\n",
       "<text text-anchor=\"start\" x=\"29\" y=\"-7.2\" font-family=\"Helvetica,sans-Serif\" font-size=\"14.00\">class = unacc</text>\n",
       "</g>\n",
       "<!-- 5&#45;&gt;6 -->\n",
       "<g id=\"edge6\" class=\"edge\">\n",
       "<title>5&#45;&gt;6</title>\n",
       "<path fill=\"none\" stroke=\"black\" d=\"M171.95,-109.64C158.89,-100.26 145.13,-90.39 132.14,-81.07\"/>\n",
       "<polygon fill=\"black\" stroke=\"black\" points=\"134.24,-78.26 124.07,-75.28 130.15,-83.95 134.24,-78.26\"/>\n",
       "</g>\n",
       "<!-- 7 -->\n",
       "<g id=\"node8\" class=\"node\">\n",
       "<title>7</title>\n",
       "<path fill=\"#f8dbc6\" stroke=\"black\" d=\"M294.25,-74C294.25,-74 174,-74 174,-74 168,-74 162,-68 162,-62 162,-62 162,-12 162,-12 162,-6 168,0 174,0 174,0 294.25,0 294.25,0 300.25,0 306.25,-6 306.25,-12 306.25,-12 306.25,-62 306.25,-62 306.25,-68 300.25,-74 294.25,-74\"/>\n",
       "<text text-anchor=\"start\" x=\"197\" y=\"-56.7\" font-family=\"Helvetica,sans-Serif\" font-size=\"14.00\">gini = 0.533</text>\n",
       "<text text-anchor=\"start\" x=\"191\" y=\"-40.2\" font-family=\"Helvetica,sans-Serif\" font-size=\"14.00\">samples = 57</text>\n",
       "<text text-anchor=\"start\" x=\"170\" y=\"-23.7\" font-family=\"Helvetica,sans-Serif\" font-size=\"14.00\">value = [32, 22, 3, 0]</text>\n",
       "<text text-anchor=\"start\" x=\"191\" y=\"-7.2\" font-family=\"Helvetica,sans-Serif\" font-size=\"14.00\">class = unacc</text>\n",
       "</g>\n",
       "<!-- 5&#45;&gt;7 -->\n",
       "<g id=\"edge7\" class=\"edge\">\n",
       "<title>5&#45;&gt;7</title>\n",
       "<path fill=\"none\" stroke=\"black\" d=\"M234.12,-109.64C234.12,-101.81 234.12,-93.63 234.12,-85.72\"/>\n",
       "<polygon fill=\"black\" stroke=\"black\" points=\"237.63,-85.91 234.13,-75.91 230.63,-85.91 237.63,-85.91\"/>\n",
       "</g>\n",
       "<!-- 9 -->\n",
       "<g id=\"node10\" class=\"node\">\n",
       "<title>9</title>\n",
       "<path fill=\"#dfeffb\" stroke=\"black\" d=\"M456.25,-74C456.25,-74 336,-74 336,-74 330,-74 324,-68 324,-62 324,-62 324,-12 324,-12 324,-6 330,0 336,0 336,0 456.25,0 456.25,0 462.25,0 468.25,-6 468.25,-12 468.25,-12 468.25,-62 468.25,-62 468.25,-68 462.25,-74 456.25,-74\"/>\n",
       "<text text-anchor=\"start\" x=\"363.12\" y=\"-56.7\" font-family=\"Helvetica,sans-Serif\" font-size=\"14.00\">gini = 0.55</text>\n",
       "<text text-anchor=\"start\" x=\"348.88\" y=\"-40.2\" font-family=\"Helvetica,sans-Serif\" font-size=\"14.00\">samples = 118</text>\n",
       "<text text-anchor=\"start\" x=\"332\" y=\"-23.7\" font-family=\"Helvetica,sans-Serif\" font-size=\"14.00\">value = [50, 7, 61, 0]</text>\n",
       "<text text-anchor=\"start\" x=\"360.5\" y=\"-7.2\" font-family=\"Helvetica,sans-Serif\" font-size=\"14.00\">class = acc</text>\n",
       "</g>\n",
       "<!-- 8&#45;&gt;9 -->\n",
       "<g id=\"edge9\" class=\"edge\">\n",
       "<title>8&#45;&gt;9</title>\n",
       "<path fill=\"none\" stroke=\"black\" d=\"M452.2,-109.64C445.43,-100.99 438.33,-91.92 431.54,-83.25\"/>\n",
       "<polygon fill=\"black\" stroke=\"black\" points=\"434.47,-81.3 425.55,-75.59 428.95,-85.62 434.47,-81.3\"/>\n",
       "</g>\n",
       "<!-- 10 -->\n",
       "<g id=\"node11\" class=\"node\">\n",
       "<title>10</title>\n",
       "<path fill=\"#eeae7f\" stroke=\"black\" d=\"M643.62,-74C643.62,-74 498.62,-74 498.62,-74 492.62,-74 486.62,-68 486.62,-62 486.62,-62 486.62,-12 486.62,-12 486.62,-6 492.62,0 498.62,0 498.62,0 643.62,0 643.62,0 649.62,0 655.62,-6 655.62,-12 655.62,-12 655.62,-62 655.62,-62 655.62,-68 649.62,-74 643.62,-74\"/>\n",
       "<text text-anchor=\"start\" x=\"534\" y=\"-56.7\" font-family=\"Helvetica,sans-Serif\" font-size=\"14.00\">gini = 0.468</text>\n",
       "<text text-anchor=\"start\" x=\"523.88\" y=\"-40.2\" font-family=\"Helvetica,sans-Serif\" font-size=\"14.00\">samples = 233</text>\n",
       "<text text-anchor=\"start\" x=\"494.62\" y=\"-23.7\" font-family=\"Helvetica,sans-Serif\" font-size=\"14.00\">value = [164, 14, 39, 16]</text>\n",
       "<text text-anchor=\"start\" x=\"528\" y=\"-7.2\" font-family=\"Helvetica,sans-Serif\" font-size=\"14.00\">class = unacc</text>\n",
       "</g>\n",
       "<!-- 8&#45;&gt;10 -->\n",
       "<g id=\"edge10\" class=\"edge\">\n",
       "<title>8&#45;&gt;10</title>\n",
       "<path fill=\"none\" stroke=\"black\" d=\"M519.36,-109.64C525.55,-101.08 532.03,-92.11 538.23,-83.52\"/>\n",
       "<polygon fill=\"black\" stroke=\"black\" points=\"540.92,-85.78 543.94,-75.62 535.25,-81.68 540.92,-85.78\"/>\n",
       "</g>\n",
       "<!-- 12 -->\n",
       "<g id=\"node13\" class=\"node\">\n",
       "<title>12</title>\n",
       "<path fill=\"#efb082\" stroke=\"black\" d=\"M868.25,-200.5C868.25,-200.5 748,-200.5 748,-200.5 742,-200.5 736,-194.5 736,-188.5 736,-188.5 736,-122 736,-122 736,-116 742,-110 748,-110 748,-110 868.25,-110 868.25,-110 874.25,-110 880.25,-116 880.25,-122 880.25,-122 880.25,-188.5 880.25,-188.5 880.25,-194.5 874.25,-200.5 868.25,-200.5\"/>\n",
       "<text text-anchor=\"start\" x=\"762.75\" y=\"-183.2\" font-family=\"Helvetica,sans-Serif\" font-size=\"14.00\">lug_boot ≤ 1.5</text>\n",
       "<text text-anchor=\"start\" x=\"771\" y=\"-166.7\" font-family=\"Helvetica,sans-Serif\" font-size=\"14.00\">gini = 0.394</text>\n",
       "<text text-anchor=\"start\" x=\"765\" y=\"-150.2\" font-family=\"Helvetica,sans-Serif\" font-size=\"14.00\">samples = 37</text>\n",
       "<text text-anchor=\"start\" x=\"744\" y=\"-133.7\" font-family=\"Helvetica,sans-Serif\" font-size=\"14.00\">value = [27, 0, 10, 0]</text>\n",
       "<text text-anchor=\"start\" x=\"765\" y=\"-117.2\" font-family=\"Helvetica,sans-Serif\" font-size=\"14.00\">class = unacc</text>\n",
       "</g>\n",
       "<!-- 11&#45;&gt;12 -->\n",
       "<g id=\"edge12\" class=\"edge\">\n",
       "<title>11&#45;&gt;12</title>\n",
       "<path fill=\"none\" stroke=\"black\" d=\"M808.12,-236.15C808.12,-228.47 808.12,-220.39 808.12,-212.44\"/>\n",
       "<polygon fill=\"black\" stroke=\"black\" points=\"811.63,-212.47 808.13,-202.47 804.63,-212.47 811.63,-212.47\"/>\n",
       "</g>\n",
       "<!-- 15 -->\n",
       "<g id=\"node16\" class=\"node\">\n",
       "<title>15</title>\n",
       "<path fill=\"#73baed\" stroke=\"black\" d=\"M1101.25,-200.5C1101.25,-200.5 981,-200.5 981,-200.5 975,-200.5 969,-194.5 969,-188.5 969,-188.5 969,-122 969,-122 969,-116 975,-110 981,-110 981,-110 1101.25,-110 1101.25,-110 1107.25,-110 1113.25,-116 1113.25,-122 1113.25,-122 1113.25,-188.5 1113.25,-188.5 1113.25,-194.5 1107.25,-200.5 1101.25,-200.5\"/>\n",
       "<text text-anchor=\"start\" x=\"1002.88\" y=\"-183.2\" font-family=\"Helvetica,sans-Serif\" font-size=\"14.00\">buying ≤ 3.5</text>\n",
       "<text text-anchor=\"start\" x=\"1008.12\" y=\"-166.7\" font-family=\"Helvetica,sans-Serif\" font-size=\"14.00\">gini = 0.35</text>\n",
       "<text text-anchor=\"start\" x=\"993.88\" y=\"-150.2\" font-family=\"Helvetica,sans-Serif\" font-size=\"14.00\">samples = 115</text>\n",
       "<text text-anchor=\"start\" x=\"977\" y=\"-133.7\" font-family=\"Helvetica,sans-Serif\" font-size=\"14.00\">value = [26, 0, 89, 0]</text>\n",
       "<text text-anchor=\"start\" x=\"1005.5\" y=\"-117.2\" font-family=\"Helvetica,sans-Serif\" font-size=\"14.00\">class = acc</text>\n",
       "</g>\n",
       "<!-- 11&#45;&gt;15 -->\n",
       "<g id=\"edge15\" class=\"edge\">\n",
       "<title>11&#45;&gt;15</title>\n",
       "<path fill=\"none\" stroke=\"black\" d=\"M880.57,-242.04C905.34,-228.81 933.22,-213.91 958.71,-200.29\"/>\n",
       "<polygon fill=\"black\" stroke=\"black\" points=\"960.22,-203.45 967.39,-195.65 956.92,-197.28 960.22,-203.45\"/>\n",
       "</g>\n",
       "<!-- 13 -->\n",
       "<g id=\"node14\" class=\"node\">\n",
       "<title>13</title>\n",
       "<path fill=\"#aad5f4\" stroke=\"black\" d=\"M789,-74C789,-74 685.25,-74 685.25,-74 679.25,-74 673.25,-68 673.25,-62 673.25,-62 673.25,-12 673.25,-12 673.25,-6 679.25,0 685.25,0 685.25,0 789,0 789,0 795,0 801,-6 801,-12 801,-12 801,-62 801,-62 801,-68 795,-74 789,-74\"/>\n",
       "<text text-anchor=\"start\" x=\"700\" y=\"-56.7\" font-family=\"Helvetica,sans-Serif\" font-size=\"14.00\">gini = 0.463</text>\n",
       "<text text-anchor=\"start\" x=\"694\" y=\"-40.2\" font-family=\"Helvetica,sans-Serif\" font-size=\"14.00\">samples = 11</text>\n",
       "<text text-anchor=\"start\" x=\"681.25\" y=\"-23.7\" font-family=\"Helvetica,sans-Serif\" font-size=\"14.00\">value = [4, 0, 7, 0]</text>\n",
       "<text text-anchor=\"start\" x=\"701.5\" y=\"-7.2\" font-family=\"Helvetica,sans-Serif\" font-size=\"14.00\">class = acc</text>\n",
       "</g>\n",
       "<!-- 12&#45;&gt;13 -->\n",
       "<g id=\"edge13\" class=\"edge\">\n",
       "<title>12&#45;&gt;13</title>\n",
       "<path fill=\"none\" stroke=\"black\" d=\"M780.88,-109.64C775.76,-101.26 770.4,-92.49 765.26,-84.07\"/>\n",
       "<polygon fill=\"black\" stroke=\"black\" points=\"768.34,-82.4 760.14,-75.69 762.37,-86.04 768.34,-82.4\"/>\n",
       "</g>\n",
       "<!-- 14 -->\n",
       "<g id=\"node15\" class=\"node\">\n",
       "<title>14</title>\n",
       "<path fill=\"#e89153\" stroke=\"black\" d=\"M943.12,-74C943.12,-74 831.12,-74 831.12,-74 825.12,-74 819.12,-68 819.12,-62 819.12,-62 819.12,-12 819.12,-12 819.12,-6 825.12,0 831.12,0 831.12,0 943.12,0 943.12,0 949.12,0 955.12,-6 955.12,-12 955.12,-12 955.12,-62 955.12,-62 955.12,-68 949.12,-74 943.12,-74\"/>\n",
       "<text text-anchor=\"start\" x=\"850\" y=\"-56.7\" font-family=\"Helvetica,sans-Serif\" font-size=\"14.00\">gini = 0.204</text>\n",
       "<text text-anchor=\"start\" x=\"844\" y=\"-40.2\" font-family=\"Helvetica,sans-Serif\" font-size=\"14.00\">samples = 26</text>\n",
       "<text text-anchor=\"start\" x=\"827.12\" y=\"-23.7\" font-family=\"Helvetica,sans-Serif\" font-size=\"14.00\">value = [23, 0, 3, 0]</text>\n",
       "<text text-anchor=\"start\" x=\"844\" y=\"-7.2\" font-family=\"Helvetica,sans-Serif\" font-size=\"14.00\">class = unacc</text>\n",
       "</g>\n",
       "<!-- 12&#45;&gt;14 -->\n",
       "<g id=\"edge14\" class=\"edge\">\n",
       "<title>12&#45;&gt;14</title>\n",
       "<path fill=\"none\" stroke=\"black\" d=\"M838.44,-109.64C844.2,-101.17 850.23,-92.3 856,-83.8\"/>\n",
       "<polygon fill=\"black\" stroke=\"black\" points=\"858.82,-85.88 861.54,-75.65 853.03,-81.95 858.82,-85.88\"/>\n",
       "</g>\n",
       "<!-- 16 -->\n",
       "<g id=\"node17\" class=\"node\">\n",
       "<title>16</title>\n",
       "<path fill=\"#399de5\" stroke=\"black\" d=\"M1097.12,-74C1097.12,-74 985.12,-74 985.12,-74 979.12,-74 973.12,-68 973.12,-62 973.12,-62 973.12,-12 973.12,-12 973.12,-6 979.12,0 985.12,0 985.12,0 1097.12,0 1097.12,0 1103.12,0 1109.12,-6 1109.12,-12 1109.12,-12 1109.12,-62 1109.12,-62 1109.12,-68 1103.12,-74 1097.12,-74\"/>\n",
       "<text text-anchor=\"start\" x=\"1012.25\" y=\"-56.7\" font-family=\"Helvetica,sans-Serif\" font-size=\"14.00\">gini = 0.0</text>\n",
       "<text text-anchor=\"start\" x=\"998\" y=\"-40.2\" font-family=\"Helvetica,sans-Serif\" font-size=\"14.00\">samples = 77</text>\n",
       "<text text-anchor=\"start\" x=\"981.12\" y=\"-23.7\" font-family=\"Helvetica,sans-Serif\" font-size=\"14.00\">value = [0, 0, 77, 0]</text>\n",
       "<text text-anchor=\"start\" x=\"1005.5\" y=\"-7.2\" font-family=\"Helvetica,sans-Serif\" font-size=\"14.00\">class = acc</text>\n",
       "</g>\n",
       "<!-- 15&#45;&gt;16 -->\n",
       "<g id=\"edge16\" class=\"edge\">\n",
       "<title>15&#45;&gt;16</title>\n",
       "<path fill=\"none\" stroke=\"black\" d=\"M1041.12,-109.64C1041.12,-101.81 1041.12,-93.63 1041.12,-85.72\"/>\n",
       "<polygon fill=\"black\" stroke=\"black\" points=\"1044.63,-85.91 1041.13,-75.91 1037.63,-85.91 1044.63,-85.91\"/>\n",
       "</g>\n",
       "<!-- 17 -->\n",
       "<g id=\"node18\" class=\"node\">\n",
       "<title>17</title>\n",
       "<path fill=\"#f1bb94\" stroke=\"black\" d=\"M1259.25,-74C1259.25,-74 1139,-74 1139,-74 1133,-74 1127,-68 1127,-62 1127,-62 1127,-12 1127,-12 1127,-6 1133,0 1139,0 1139,0 1259.25,0 1259.25,0 1265.25,0 1271.25,-6 1271.25,-12 1271.25,-12 1271.25,-62 1271.25,-62 1271.25,-68 1265.25,-74 1259.25,-74\"/>\n",
       "<text text-anchor=\"start\" x=\"1162\" y=\"-56.7\" font-family=\"Helvetica,sans-Serif\" font-size=\"14.00\">gini = 0.432</text>\n",
       "<text text-anchor=\"start\" x=\"1156\" y=\"-40.2\" font-family=\"Helvetica,sans-Serif\" font-size=\"14.00\">samples = 38</text>\n",
       "<text text-anchor=\"start\" x=\"1135\" y=\"-23.7\" font-family=\"Helvetica,sans-Serif\" font-size=\"14.00\">value = [26, 0, 12, 0]</text>\n",
       "<text text-anchor=\"start\" x=\"1156\" y=\"-7.2\" font-family=\"Helvetica,sans-Serif\" font-size=\"14.00\">class = unacc</text>\n",
       "</g>\n",
       "<!-- 15&#45;&gt;17 -->\n",
       "<g id=\"edge17\" class=\"edge\">\n",
       "<title>15&#45;&gt;17</title>\n",
       "<path fill=\"none\" stroke=\"black\" d=\"M1101.76,-109.64C1114.51,-100.26 1127.93,-90.39 1140.59,-81.07\"/>\n",
       "<polygon fill=\"black\" stroke=\"black\" points=\"1142.46,-84.04 1148.44,-75.29 1138.31,-78.4 1142.46,-84.04\"/>\n",
       "</g>\n",
       "</g>\n",
       "</svg>\n"
      ],
      "text/plain": [
       "<graphviz.sources.Source at 0x2578767b390>"
      ]
     },
     "execution_count": 59,
     "metadata": {},
     "output_type": "execute_result"
    }
   ],
   "source": [
    "import graphviz \n",
    "dot_data = tree.export_graphviz(dec, out_file=None, \n",
    "                              feature_names=Xtrain.columns,  \n",
    "                              class_names=ytrain,  \n",
    "                              filled=True, rounded=True,  \n",
    "                              special_characters=True)\n",
    "\n",
    "graph = graphviz.Source(dot_data) \n",
    "\n",
    "graph "
   ]
  },
  {
   "cell_type": "code",
   "execution_count": 64,
   "id": "77b93de4",
   "metadata": {},
   "outputs": [
    {
     "data": {
      "text/html": [
       "<style>#sk-container-id-5 {color: black;}#sk-container-id-5 pre{padding: 0;}#sk-container-id-5 div.sk-toggleable {background-color: white;}#sk-container-id-5 label.sk-toggleable__label {cursor: pointer;display: block;width: 100%;margin-bottom: 0;padding: 0.3em;box-sizing: border-box;text-align: center;}#sk-container-id-5 label.sk-toggleable__label-arrow:before {content: \"▸\";float: left;margin-right: 0.25em;color: #696969;}#sk-container-id-5 label.sk-toggleable__label-arrow:hover:before {color: black;}#sk-container-id-5 div.sk-estimator:hover label.sk-toggleable__label-arrow:before {color: black;}#sk-container-id-5 div.sk-toggleable__content {max-height: 0;max-width: 0;overflow: hidden;text-align: left;background-color: #f0f8ff;}#sk-container-id-5 div.sk-toggleable__content pre {margin: 0.2em;color: black;border-radius: 0.25em;background-color: #f0f8ff;}#sk-container-id-5 input.sk-toggleable__control:checked~div.sk-toggleable__content {max-height: 200px;max-width: 100%;overflow: auto;}#sk-container-id-5 input.sk-toggleable__control:checked~label.sk-toggleable__label-arrow:before {content: \"▾\";}#sk-container-id-5 div.sk-estimator input.sk-toggleable__control:checked~label.sk-toggleable__label {background-color: #d4ebff;}#sk-container-id-5 div.sk-label input.sk-toggleable__control:checked~label.sk-toggleable__label {background-color: #d4ebff;}#sk-container-id-5 input.sk-hidden--visually {border: 0;clip: rect(1px 1px 1px 1px);clip: rect(1px, 1px, 1px, 1px);height: 1px;margin: -1px;overflow: hidden;padding: 0;position: absolute;width: 1px;}#sk-container-id-5 div.sk-estimator {font-family: monospace;background-color: #f0f8ff;border: 1px dotted black;border-radius: 0.25em;box-sizing: border-box;margin-bottom: 0.5em;}#sk-container-id-5 div.sk-estimator:hover {background-color: #d4ebff;}#sk-container-id-5 div.sk-parallel-item::after {content: \"\";width: 100%;border-bottom: 1px solid gray;flex-grow: 1;}#sk-container-id-5 div.sk-label:hover label.sk-toggleable__label {background-color: #d4ebff;}#sk-container-id-5 div.sk-serial::before {content: \"\";position: absolute;border-left: 1px solid gray;box-sizing: border-box;top: 0;bottom: 0;left: 50%;z-index: 0;}#sk-container-id-5 div.sk-serial {display: flex;flex-direction: column;align-items: center;background-color: white;padding-right: 0.2em;padding-left: 0.2em;position: relative;}#sk-container-id-5 div.sk-item {position: relative;z-index: 1;}#sk-container-id-5 div.sk-parallel {display: flex;align-items: stretch;justify-content: center;background-color: white;position: relative;}#sk-container-id-5 div.sk-item::before, #sk-container-id-5 div.sk-parallel-item::before {content: \"\";position: absolute;border-left: 1px solid gray;box-sizing: border-box;top: 0;bottom: 0;left: 50%;z-index: -1;}#sk-container-id-5 div.sk-parallel-item {display: flex;flex-direction: column;z-index: 1;position: relative;background-color: white;}#sk-container-id-5 div.sk-parallel-item:first-child::after {align-self: flex-end;width: 50%;}#sk-container-id-5 div.sk-parallel-item:last-child::after {align-self: flex-start;width: 50%;}#sk-container-id-5 div.sk-parallel-item:only-child::after {width: 0;}#sk-container-id-5 div.sk-dashed-wrapped {border: 1px dashed gray;margin: 0 0.4em 0.5em 0.4em;box-sizing: border-box;padding-bottom: 0.4em;background-color: white;}#sk-container-id-5 div.sk-label label {font-family: monospace;font-weight: bold;display: inline-block;line-height: 1.2em;}#sk-container-id-5 div.sk-label-container {text-align: center;}#sk-container-id-5 div.sk-container {/* jupyter's `normalize.less` sets `[hidden] { display: none; }` but bootstrap.min.css set `[hidden] { display: none !important; }` so we also need the `!important` here to be able to override the default hidden behavior on the sphinx rendered scikit-learn.org. See: https://github.com/scikit-learn/scikit-learn/issues/21755 */display: inline-block !important;position: relative;}#sk-container-id-5 div.sk-text-repr-fallback {display: none;}</style><div id=\"sk-container-id-5\" class=\"sk-top-container\"><div class=\"sk-text-repr-fallback\"><pre>DecisionTreeClassifier(criterion=&#x27;entropy&#x27;, max_depth=5, random_state=0)</pre><b>In a Jupyter environment, please rerun this cell to show the HTML representation or trust the notebook. <br />On GitHub, the HTML representation is unable to render, please try loading this page with nbviewer.org.</b></div><div class=\"sk-container\" hidden><div class=\"sk-item\"><div class=\"sk-estimator sk-toggleable\"><input class=\"sk-toggleable__control sk-hidden--visually\" id=\"sk-estimator-id-5\" type=\"checkbox\" checked><label for=\"sk-estimator-id-5\" class=\"sk-toggleable__label sk-toggleable__label-arrow\">DecisionTreeClassifier</label><div class=\"sk-toggleable__content\"><pre>DecisionTreeClassifier(criterion=&#x27;entropy&#x27;, max_depth=5, random_state=0)</pre></div></div></div></div></div>"
      ],
      "text/plain": [
       "DecisionTreeClassifier(criterion='entropy', max_depth=5, random_state=0)"
      ]
     },
     "execution_count": 64,
     "metadata": {},
     "output_type": "execute_result"
    }
   ],
   "source": [
    "# decision classifier with entropy\n",
    "from sklearn.tree import DecisionTreeClassifier\n",
    "dec1 = DecisionTreeClassifier(criterion='entropy',splitter='best',max_depth=5,random_state=0)\n",
    "dec1.fit(Xtrain,ytrain)"
   ]
  },
  {
   "cell_type": "code",
   "execution_count": 65,
   "id": "6716c7a9",
   "metadata": {},
   "outputs": [],
   "source": [
    "ypred1 = dec1.predict(Xtest)"
   ]
  },
  {
   "cell_type": "code",
   "execution_count": 66,
   "id": "a298b48e",
   "metadata": {},
   "outputs": [
    {
     "name": "stdout",
     "output_type": "stream",
     "text": [
      "Decision tree model (entropy) accuracy: 0.8497\n"
     ]
    }
   ],
   "source": [
    "from sklearn.metrics import accuracy_score\n",
    "print('Decision tree model (entropy) accuracy: {0:0.4f}'.format(accuracy_score(ytest,ypred1)))"
   ]
  },
  {
   "cell_type": "code",
   "execution_count": 67,
   "id": "534b1bab",
   "metadata": {},
   "outputs": [
    {
     "name": "stdout",
     "output_type": "stream",
     "text": [
      "Training accuracy: 0.8501\n"
     ]
    }
   ],
   "source": [
    "ypred_train = dec1.predict(Xtrain)\n",
    "print('Training accuracy: {0:0.4f}'.format(accuracy_score(ytrain,ypred_train)))"
   ]
  },
  {
   "cell_type": "code",
   "execution_count": 68,
   "id": "7519c862",
   "metadata": {},
   "outputs": [
    {
     "name": "stdout",
     "output_type": "stream",
     "text": [
      "Decision tree model accuracy: 0.8497\n"
     ]
    }
   ],
   "source": [
    "ypred_test = dec1.predict(Xtest)\n",
    "print('Decision tree model accuracy: {0:0.4f}'.format(accuracy_score(ytest,ypred_test)))"
   ]
  },
  {
   "cell_type": "code",
   "execution_count": 69,
   "id": "bbc26127",
   "metadata": {},
   "outputs": [
    {
     "name": "stdout",
     "output_type": "stream",
     "text": [
      "Training set score: 0.8501\n",
      "Test set score: 0.8497\n"
     ]
    }
   ],
   "source": [
    "print('Training set score: {:.4f}'.format(dec1.score(Xtrain, ytrain)))\n",
    "\n",
    "print('Test set score: {:.4f}'.format(dec1.score(Xtest, ytest)))"
   ]
  },
  {
   "cell_type": "code",
   "execution_count": 71,
   "id": "4aa5f75a",
   "metadata": {},
   "outputs": [
    {
     "data": {
      "text/plain": [
       "[Text(0.5, 0.9166666666666666, 'x[3] <= 1.5\\nentropy = 1.196\\nsamples = 1381\\nvalue = [307, 55, 970, 49]'),\n",
       " Text(0.4375, 0.75, 'entropy = 0.0\\nsamples = 463\\nvalue = [0, 0, 463, 0]'),\n",
       " Text(0.5625, 0.75, 'x[5] <= 2.5\\nentropy = 1.47\\nsamples = 918\\nvalue = [307, 55, 507, 49]'),\n",
       " Text(0.5, 0.5833333333333334, 'x[1] <= 3.5\\nentropy = 1.631\\nsamples = 616\\nvalue = [307, 55, 205, 49]'),\n",
       " Text(0.25, 0.4166666666666667, 'x[0] <= 1.5\\nentropy = 1.67\\nsamples = 464\\nvalue = [254, 55, 106, 49]'),\n",
       " Text(0.125, 0.25, 'x[5] <= 1.5\\nentropy = 1.795\\nsamples = 113\\nvalue = [40, 34, 6, 33]'),\n",
       " Text(0.0625, 0.08333333333333333, 'entropy = 1.553\\nsamples = 56\\nvalue = [8, 12, 3, 33]'),\n",
       " Text(0.1875, 0.08333333333333333, 'entropy = 1.221\\nsamples = 57\\nvalue = [32, 22, 3, 0]'),\n",
       " Text(0.375, 0.25, 'x[0] <= 3.5\\nentropy = 1.397\\nsamples = 351\\nvalue = [214, 21, 100, 16]'),\n",
       " Text(0.3125, 0.08333333333333333, 'entropy = 0.943\\nsamples = 236\\nvalue = [151, 0, 85, 0]'),\n",
       " Text(0.4375, 0.08333333333333333, 'entropy = 1.703\\nsamples = 115\\nvalue = [63, 21, 15, 16]'),\n",
       " Text(0.75, 0.4166666666666667, 'x[0] <= 1.5\\nentropy = 0.933\\nsamples = 152\\nvalue = [53, 0, 99, 0]'),\n",
       " Text(0.625, 0.25, 'x[5] <= 1.5\\nentropy = 0.842\\nsamples = 37\\nvalue = [27, 0, 10, 0]'),\n",
       " Text(0.5625, 0.08333333333333333, 'entropy = 0.0\\nsamples = 15\\nvalue = [15, 0, 0, 0]'),\n",
       " Text(0.6875, 0.08333333333333333, 'entropy = 0.994\\nsamples = 22\\nvalue = [12, 0, 10, 0]'),\n",
       " Text(0.875, 0.25, 'x[0] <= 3.5\\nentropy = 0.771\\nsamples = 115\\nvalue = [26, 0, 89, 0]'),\n",
       " Text(0.8125, 0.08333333333333333, 'entropy = 0.0\\nsamples = 77\\nvalue = [0, 0, 77, 0]'),\n",
       " Text(0.9375, 0.08333333333333333, 'entropy = 0.9\\nsamples = 38\\nvalue = [26, 0, 12, 0]'),\n",
       " Text(0.625, 0.5833333333333334, 'entropy = 0.0\\nsamples = 302\\nvalue = [0, 0, 302, 0]')]"
      ]
     },
     "execution_count": 71,
     "metadata": {},
     "output_type": "execute_result"
    },
    {
     "data": {
      "image/png": "[encoded data removed]",
      "text/plain": [
       "<Figure size 1200x800 with 1 Axes>"
      ]
     },
     "metadata": {},
     "output_type": "display_data"
    }
   ],
   "source": [
    "plt.figure(figsize=(12,8))\n",
    "\n",
    "from sklearn import tree\n",
    "\n",
    "tree.plot_tree(dec1.fit(Xtrain, ytrain))"
   ]
  },
  {
   "cell_type": "code",
   "execution_count": 73,
   "id": "ed338d4d",
   "metadata": {},
   "outputs": [
    {
     "data": {
      "image/svg+xml": [
       "<?xml version=\"1.0\" encoding=\"UTF-8\" standalone=\"no\"?>\n",
       "<!DOCTYPE svg PUBLIC \"-//W3C//DTD SVG 1.1//EN\"\n",
       " \"http://www.w3.org/Graphics/SVG/1.1/DTD/svg11.dtd\">\n",
       "<!-- Generated by graphviz version 9.0.0 (20230911.1827)\n",
       " -->\n",
       "<!-- Title: Tree Pages: 1 -->\n",
       "<svg width=\"1295pt\" height=\"715pt\"\n",
       " viewBox=\"0.00 0.00 1295.25 714.50\" xmlns=\"http://www.w3.org/2000/svg\" xmlns:xlink=\"http://www.w3.org/1999/xlink\">\n",
       "<g id=\"graph0\" class=\"graph\" transform=\"scale(1 1) rotate(0) translate(4 710.5)\">\n",
       "<title>Tree</title>\n",
       "<polygon fill=\"white\" stroke=\"none\" points=\"-4,4 -4,-710.5 1291.25,-710.5 1291.25,4 -4,4\"/>\n",
       "<!-- 0 -->\n",
       "<g id=\"node1\" class=\"node\">\n",
       "<title>0</title>\n",
       "<path fill=\"#85c3ef\" stroke=\"black\" d=\"M726.75,-706.5C726.75,-706.5 573.5,-706.5 573.5,-706.5 567.5,-706.5 561.5,-700.5 561.5,-694.5 561.5,-694.5 561.5,-628 561.5,-628 561.5,-622 567.5,-616 573.5,-616 573.5,-616 726.75,-616 726.75,-616 732.75,-616 738.75,-622 738.75,-628 738.75,-628 738.75,-694.5 738.75,-694.5 738.75,-700.5 732.75,-706.5 726.75,-706.5\"/>\n",
       "<text text-anchor=\"start\" x=\"606.62\" y=\"-689.2\" font-family=\"Helvetica,sans-Serif\" font-size=\"14.00\">persons ≤ 1.5</text>\n",
       "<text text-anchor=\"start\" x=\"600.25\" y=\"-672.7\" font-family=\"Helvetica,sans-Serif\" font-size=\"14.00\">entropy = 1.196</text>\n",
       "<text text-anchor=\"start\" x=\"598.75\" y=\"-656.2\" font-family=\"Helvetica,sans-Serif\" font-size=\"14.00\">samples = 1381</text>\n",
       "<text text-anchor=\"start\" x=\"569.5\" y=\"-639.7\" font-family=\"Helvetica,sans-Serif\" font-size=\"14.00\">value = [307, 55, 970, 49]</text>\n",
       "<text text-anchor=\"start\" x=\"614.5\" y=\"-623.2\" font-family=\"Helvetica,sans-Serif\" font-size=\"14.00\">class = acc</text>\n",
       "</g>\n",
       "<!-- 1 -->\n",
       "<g id=\"node2\" class=\"node\">\n",
       "<title>1</title>\n",
       "<path fill=\"#399de5\" stroke=\"black\" d=\"M621.25,-571.75C621.25,-571.75 501,-571.75 501,-571.75 495,-571.75 489,-565.75 489,-559.75 489,-559.75 489,-509.75 489,-509.75 489,-503.75 495,-497.75 501,-497.75 501,-497.75 621.25,-497.75 621.25,-497.75 627.25,-497.75 633.25,-503.75 633.25,-509.75 633.25,-509.75 633.25,-559.75 633.25,-559.75 633.25,-565.75 627.25,-571.75 621.25,-571.75\"/>\n",
       "<text text-anchor=\"start\" x=\"519.5\" y=\"-554.45\" font-family=\"Helvetica,sans-Serif\" font-size=\"14.00\">entropy = 0.0</text>\n",
       "<text text-anchor=\"start\" x=\"513.88\" y=\"-537.95\" font-family=\"Helvetica,sans-Serif\" font-size=\"14.00\">samples = 463</text>\n",
       "<text text-anchor=\"start\" x=\"497\" y=\"-521.45\" font-family=\"Helvetica,sans-Serif\" font-size=\"14.00\">value = [0, 0, 463, 0]</text>\n",
       "<text text-anchor=\"start\" x=\"525.5\" y=\"-504.95\" font-family=\"Helvetica,sans-Serif\" font-size=\"14.00\">class = acc</text>\n",
       "</g>\n",
       "<!-- 0&#45;&gt;1 -->\n",
       "<g id=\"edge1\" class=\"edge\">\n",
       "<title>0&#45;&gt;1</title>\n",
       "<path fill=\"none\" stroke=\"black\" d=\"M618.25,-615.65C610.22,-604.43 601.59,-592.36 593.54,-581.1\"/>\n",
       "<polygon fill=\"black\" stroke=\"black\" points=\"596.48,-579.19 587.82,-573.09 590.78,-583.26 596.48,-579.19\"/>\n",
       "<text text-anchor=\"middle\" x=\"582.84\" y=\"-591.47\" font-family=\"Helvetica,sans-Serif\" font-size=\"14.00\">True</text>\n",
       "</g>\n",
       "<!-- 2 -->\n",
       "<g id=\"node3\" class=\"node\">\n",
       "<title>2</title>\n",
       "<path fill=\"#bedff6\" stroke=\"black\" d=\"M816.75,-580C816.75,-580 663.5,-580 663.5,-580 657.5,-580 651.5,-574 651.5,-568 651.5,-568 651.5,-501.5 651.5,-501.5 651.5,-495.5 657.5,-489.5 663.5,-489.5 663.5,-489.5 816.75,-489.5 816.75,-489.5 822.75,-489.5 828.75,-495.5 828.75,-501.5 828.75,-501.5 828.75,-568 828.75,-568 828.75,-574 822.75,-580 816.75,-580\"/>\n",
       "<text text-anchor=\"start\" x=\"703.38\" y=\"-562.7\" font-family=\"Helvetica,sans-Serif\" font-size=\"14.00\">safety ≤ 2.5</text>\n",
       "<text text-anchor=\"start\" x=\"694.38\" y=\"-546.2\" font-family=\"Helvetica,sans-Serif\" font-size=\"14.00\">entropy = 1.47</text>\n",
       "<text text-anchor=\"start\" x=\"692.88\" y=\"-529.7\" font-family=\"Helvetica,sans-Serif\" font-size=\"14.00\">samples = 918</text>\n",
       "<text text-anchor=\"start\" x=\"659.5\" y=\"-513.2\" font-family=\"Helvetica,sans-Serif\" font-size=\"14.00\">value = [307, 55, 507, 49]</text>\n",
       "<text text-anchor=\"start\" x=\"704.5\" y=\"-496.7\" font-family=\"Helvetica,sans-Serif\" font-size=\"14.00\">class = acc</text>\n",
       "</g>\n",
       "<!-- 0&#45;&gt;2 -->\n",
       "<g id=\"edge2\" class=\"edge\">\n",
       "<title>0&#45;&gt;2</title>\n",
       "<path fill=\"none\" stroke=\"black\" d=\"M682.36,-615.65C688.44,-607.25 694.85,-598.38 701.11,-589.73\"/>\n",
       "<polygon fill=\"black\" stroke=\"black\" points=\"703.9,-591.83 706.92,-581.68 698.23,-587.73 703.9,-591.83\"/>\n",
       "<text text-anchor=\"middle\" x=\"711.78\" y=\"-600.09\" font-family=\"Helvetica,sans-Serif\" font-size=\"14.00\">False</text>\n",
       "</g>\n",
       "<!-- 3 -->\n",
       "<g id=\"node4\" class=\"node\">\n",
       "<title>3</title>\n",
       "<path fill=\"#f9e0ce\" stroke=\"black\" d=\"M727.75,-453.5C727.75,-453.5 574.5,-453.5 574.5,-453.5 568.5,-453.5 562.5,-447.5 562.5,-441.5 562.5,-441.5 562.5,-375 562.5,-375 562.5,-369 568.5,-363 574.5,-363 574.5,-363 727.75,-363 727.75,-363 733.75,-363 739.75,-369 739.75,-375 739.75,-375 739.75,-441.5 739.75,-441.5 739.75,-447.5 733.75,-453.5 727.75,-453.5\"/>\n",
       "<text text-anchor=\"start\" x=\"616.62\" y=\"-436.2\" font-family=\"Helvetica,sans-Serif\" font-size=\"14.00\">maint ≤ 3.5</text>\n",
       "<text text-anchor=\"start\" x=\"601.25\" y=\"-419.7\" font-family=\"Helvetica,sans-Serif\" font-size=\"14.00\">entropy = 1.631</text>\n",
       "<text text-anchor=\"start\" x=\"603.88\" y=\"-403.2\" font-family=\"Helvetica,sans-Serif\" font-size=\"14.00\">samples = 616</text>\n",
       "<text text-anchor=\"start\" x=\"570.5\" y=\"-386.7\" font-family=\"Helvetica,sans-Serif\" font-size=\"14.00\">value = [307, 55, 205, 49]</text>\n",
       "<text text-anchor=\"start\" x=\"608\" y=\"-370.2\" font-family=\"Helvetica,sans-Serif\" font-size=\"14.00\">class = unacc</text>\n",
       "</g>\n",
       "<!-- 2&#45;&gt;3 -->\n",
       "<g id=\"edge3\" class=\"edge\">\n",
       "<title>2&#45;&gt;3</title>\n",
       "<path fill=\"none\" stroke=\"black\" d=\"M708.25,-489.15C702.24,-480.75 695.9,-471.88 689.71,-463.23\"/>\n",
       "<polygon fill=\"black\" stroke=\"black\" points=\"692.62,-461.28 683.96,-455.18 686.93,-465.35 692.62,-461.28\"/>\n",
       "</g>\n",
       "<!-- 18 -->\n",
       "<g id=\"node19\" class=\"node\">\n",
       "<title>18</title>\n",
       "<path fill=\"#399de5\" stroke=\"black\" d=\"M890.25,-445.25C890.25,-445.25 770,-445.25 770,-445.25 764,-445.25 758,-439.25 758,-433.25 758,-433.25 758,-383.25 758,-383.25 758,-377.25 764,-371.25 770,-371.25 770,-371.25 890.25,-371.25 890.25,-371.25 896.25,-371.25 902.25,-377.25 902.25,-383.25 902.25,-383.25 902.25,-433.25 902.25,-433.25 902.25,-439.25 896.25,-445.25 890.25,-445.25\"/>\n",
       "<text text-anchor=\"start\" x=\"788.5\" y=\"-427.95\" font-family=\"Helvetica,sans-Serif\" font-size=\"14.00\">entropy = 0.0</text>\n",
       "<text text-anchor=\"start\" x=\"782.88\" y=\"-411.45\" font-family=\"Helvetica,sans-Serif\" font-size=\"14.00\">samples = 302</text>\n",
       "<text text-anchor=\"start\" x=\"766\" y=\"-394.95\" font-family=\"Helvetica,sans-Serif\" font-size=\"14.00\">value = [0, 0, 302, 0]</text>\n",
       "<text text-anchor=\"start\" x=\"794.5\" y=\"-378.45\" font-family=\"Helvetica,sans-Serif\" font-size=\"14.00\">class = acc</text>\n",
       "</g>\n",
       "<!-- 2&#45;&gt;18 -->\n",
       "<g id=\"edge18\" class=\"edge\">\n",
       "<title>2&#45;&gt;18</title>\n",
       "<path fill=\"none\" stroke=\"black\" d=\"M772.36,-489.15C780.48,-477.93 789.2,-465.86 797.35,-454.6\"/>\n",
       "<polygon fill=\"black\" stroke=\"black\" points=\"800.12,-456.74 803.14,-446.58 794.44,-452.64 800.12,-456.74\"/>\n",
       "</g>\n",
       "<!-- 4 -->\n",
       "<g id=\"node5\" class=\"node\">\n",
       "<title>4</title>\n",
       "<path fill=\"#f4cbad\" stroke=\"black\" d=\"M565.75,-327C565.75,-327 412.5,-327 412.5,-327 406.5,-327 400.5,-321 400.5,-315 400.5,-315 400.5,-248.5 400.5,-248.5 400.5,-242.5 406.5,-236.5 412.5,-236.5 412.5,-236.5 565.75,-236.5 565.75,-236.5 571.75,-236.5 577.75,-242.5 577.75,-248.5 577.75,-248.5 577.75,-315 577.75,-315 577.75,-321 571.75,-327 565.75,-327\"/>\n",
       "<text text-anchor=\"start\" x=\"450.88\" y=\"-309.7\" font-family=\"Helvetica,sans-Serif\" font-size=\"14.00\">buying ≤ 1.5</text>\n",
       "<text text-anchor=\"start\" x=\"443.38\" y=\"-293.2\" font-family=\"Helvetica,sans-Serif\" font-size=\"14.00\">entropy = 1.67</text>\n",
       "<text text-anchor=\"start\" x=\"441.88\" y=\"-276.7\" font-family=\"Helvetica,sans-Serif\" font-size=\"14.00\">samples = 464</text>\n",
       "<text text-anchor=\"start\" x=\"408.5\" y=\"-260.2\" font-family=\"Helvetica,sans-Serif\" font-size=\"14.00\">value = [254, 55, 106, 49]</text>\n",
       "<text text-anchor=\"start\" x=\"446\" y=\"-243.7\" font-family=\"Helvetica,sans-Serif\" font-size=\"14.00\">class = unacc</text>\n",
       "</g>\n",
       "<!-- 3&#45;&gt;4 -->\n",
       "<g id=\"edge4\" class=\"edge\">\n",
       "<title>3&#45;&gt;4</title>\n",
       "<path fill=\"none\" stroke=\"black\" d=\"M593.1,-362.65C581.12,-353.45 568.4,-343.68 556.13,-334.25\"/>\n",
       "<polygon fill=\"black\" stroke=\"black\" points=\"558.55,-331.69 548.49,-328.38 554.29,-337.24 558.55,-331.69\"/>\n",
       "</g>\n",
       "<!-- 11 -->\n",
       "<g id=\"node12\" class=\"node\">\n",
       "<title>11</title>\n",
       "<path fill=\"#a3d1f3\" stroke=\"black\" d=\"M878.25,-327C878.25,-327 758,-327 758,-327 752,-327 746,-321 746,-315 746,-315 746,-248.5 746,-248.5 746,-242.5 752,-236.5 758,-236.5 758,-236.5 878.25,-236.5 878.25,-236.5 884.25,-236.5 890.25,-242.5 890.25,-248.5 890.25,-248.5 890.25,-315 890.25,-315 890.25,-321 884.25,-327 878.25,-327\"/>\n",
       "<text text-anchor=\"start\" x=\"779.88\" y=\"-309.7\" font-family=\"Helvetica,sans-Serif\" font-size=\"14.00\">buying ≤ 1.5</text>\n",
       "<text text-anchor=\"start\" x=\"768.25\" y=\"-293.2\" font-family=\"Helvetica,sans-Serif\" font-size=\"14.00\">entropy = 0.933</text>\n",
       "<text text-anchor=\"start\" x=\"770.88\" y=\"-276.7\" font-family=\"Helvetica,sans-Serif\" font-size=\"14.00\">samples = 152</text>\n",
       "<text text-anchor=\"start\" x=\"754\" y=\"-260.2\" font-family=\"Helvetica,sans-Serif\" font-size=\"14.00\">value = [53, 0, 99, 0]</text>\n",
       "<text text-anchor=\"start\" x=\"782.5\" y=\"-243.7\" font-family=\"Helvetica,sans-Serif\" font-size=\"14.00\">class = acc</text>\n",
       "</g>\n",
       "<!-- 3&#45;&gt;11 -->\n",
       "<g id=\"edge11\" class=\"edge\">\n",
       "<title>3&#45;&gt;11</title>\n",
       "<path fill=\"none\" stroke=\"black\" d=\"M710.94,-362.65C723.3,-353.45 736.4,-343.68 749.05,-334.25\"/>\n",
       "<polygon fill=\"black\" stroke=\"black\" points=\"751.02,-337.14 756.95,-328.36 746.84,-331.53 751.02,-337.14\"/>\n",
       "</g>\n",
       "<!-- 5 -->\n",
       "<g id=\"node6\" class=\"node\">\n",
       "<title>5</title>\n",
       "<path fill=\"#fdf5f0\" stroke=\"black\" d=\"M298.38,-200.5C298.38,-200.5 169.88,-200.5 169.88,-200.5 163.88,-200.5 157.88,-194.5 157.88,-188.5 157.88,-188.5 157.88,-122 157.88,-122 157.88,-116 163.88,-110 169.88,-110 169.88,-110 298.38,-110 298.38,-110 304.38,-110 310.38,-116 310.38,-122 310.38,-122 310.38,-188.5 310.38,-188.5 310.38,-194.5 304.38,-200.5 298.38,-200.5\"/>\n",
       "<text text-anchor=\"start\" x=\"197.38\" y=\"-183.2\" font-family=\"Helvetica,sans-Serif\" font-size=\"14.00\">safety ≤ 1.5</text>\n",
       "<text text-anchor=\"start\" x=\"184.25\" y=\"-166.7\" font-family=\"Helvetica,sans-Serif\" font-size=\"14.00\">entropy = 1.795</text>\n",
       "<text text-anchor=\"start\" x=\"186.88\" y=\"-150.2\" font-family=\"Helvetica,sans-Serif\" font-size=\"14.00\">samples = 113</text>\n",
       "<text text-anchor=\"start\" x=\"165.88\" y=\"-133.7\" font-family=\"Helvetica,sans-Serif\" font-size=\"14.00\">value = [40, 34, 6, 33]</text>\n",
       "<text text-anchor=\"start\" x=\"191\" y=\"-117.2\" font-family=\"Helvetica,sans-Serif\" font-size=\"14.00\">class = unacc</text>\n",
       "</g>\n",
       "<!-- 4&#45;&gt;5 -->\n",
       "<g id=\"edge5\" class=\"edge\">\n",
       "<title>4&#45;&gt;5</title>\n",
       "<path fill=\"none\" stroke=\"black\" d=\"M400.3,-237.38C374.54,-224.8 346.45,-211.09 320.83,-198.58\"/>\n",
       "<polygon fill=\"black\" stroke=\"black\" points=\"322.64,-195.57 312.12,-194.33 319.57,-201.86 322.64,-195.57\"/>\n",
       "</g>\n",
       "<!-- 8 -->\n",
       "<g id=\"node9\" class=\"node\">\n",
       "<title>8</title>\n",
       "<path fill=\"#f3c6a5\" stroke=\"black\" d=\"M565.75,-200.5C565.75,-200.5 412.5,-200.5 412.5,-200.5 406.5,-200.5 400.5,-194.5 400.5,-188.5 400.5,-188.5 400.5,-122 400.5,-122 400.5,-116 406.5,-110 412.5,-110 412.5,-110 565.75,-110 565.75,-110 571.75,-110 577.75,-116 577.75,-122 577.75,-122 577.75,-188.5 577.75,-188.5 577.75,-194.5 571.75,-200.5 565.75,-200.5\"/>\n",
       "<text text-anchor=\"start\" x=\"450.88\" y=\"-183.2\" font-family=\"Helvetica,sans-Serif\" font-size=\"14.00\">buying ≤ 3.5</text>\n",
       "<text text-anchor=\"start\" x=\"439.25\" y=\"-166.7\" font-family=\"Helvetica,sans-Serif\" font-size=\"14.00\">entropy = 1.397</text>\n",
       "<text text-anchor=\"start\" x=\"441.88\" y=\"-150.2\" font-family=\"Helvetica,sans-Serif\" font-size=\"14.00\">samples = 351</text>\n",
       "<text text-anchor=\"start\" x=\"408.5\" y=\"-133.7\" font-family=\"Helvetica,sans-Serif\" font-size=\"14.00\">value = [214, 21, 100, 16]</text>\n",
       "<text text-anchor=\"start\" x=\"446\" y=\"-117.2\" font-family=\"Helvetica,sans-Serif\" font-size=\"14.00\">class = unacc</text>\n",
       "</g>\n",
       "<!-- 4&#45;&gt;8 -->\n",
       "<g id=\"edge8\" class=\"edge\">\n",
       "<title>4&#45;&gt;8</title>\n",
       "<path fill=\"none\" stroke=\"black\" d=\"M489.12,-236.15C489.12,-228.47 489.12,-220.39 489.12,-212.44\"/>\n",
       "<polygon fill=\"black\" stroke=\"black\" points=\"492.63,-212.47 489.13,-202.47 485.63,-212.47 492.63,-212.47\"/>\n",
       "</g>\n",
       "<!-- 6 -->\n",
       "<g id=\"node7\" class=\"node\">\n",
       "<title>6</title>\n",
       "<path fill=\"#eca0f3\" stroke=\"black\" d=\"M132.25,-74C132.25,-74 12,-74 12,-74 6,-74 0,-68 0,-62 0,-62 0,-12 0,-12 0,-6 6,0 12,0 12,0 132.25,0 132.25,0 138.25,0 144.25,-6 144.25,-12 144.25,-12 144.25,-62 144.25,-62 144.25,-68 138.25,-74 132.25,-74\"/>\n",
       "<text text-anchor=\"start\" x=\"22.25\" y=\"-56.7\" font-family=\"Helvetica,sans-Serif\" font-size=\"14.00\">entropy = 1.553</text>\n",
       "<text text-anchor=\"start\" x=\"29\" y=\"-40.2\" font-family=\"Helvetica,sans-Serif\" font-size=\"14.00\">samples = 56</text>\n",
       "<text text-anchor=\"start\" x=\"8\" y=\"-23.7\" font-family=\"Helvetica,sans-Serif\" font-size=\"14.00\">value = [8, 12, 3, 33]</text>\n",
       "<text text-anchor=\"start\" x=\"29\" y=\"-7.2\" font-family=\"Helvetica,sans-Serif\" font-size=\"14.00\">class = unacc</text>\n",
       "</g>\n",
       "<!-- 5&#45;&gt;6 -->\n",
       "<g id=\"edge6\" class=\"edge\">\n",
       "<title>5&#45;&gt;6</title>\n",
       "<path fill=\"none\" stroke=\"black\" d=\"M171.95,-109.64C158.89,-100.26 145.13,-90.39 132.14,-81.07\"/>\n",
       "<polygon fill=\"black\" stroke=\"black\" points=\"134.24,-78.26 124.07,-75.28 130.15,-83.95 134.24,-78.26\"/>\n",
       "</g>\n",
       "<!-- 7 -->\n",
       "<g id=\"node8\" class=\"node\">\n",
       "<title>7</title>\n",
       "<path fill=\"#f8dbc6\" stroke=\"black\" d=\"M294.25,-74C294.25,-74 174,-74 174,-74 168,-74 162,-68 162,-62 162,-62 162,-12 162,-12 162,-6 168,0 174,0 174,0 294.25,0 294.25,0 300.25,0 306.25,-6 306.25,-12 306.25,-12 306.25,-62 306.25,-62 306.25,-68 300.25,-74 294.25,-74\"/>\n",
       "<text text-anchor=\"start\" x=\"184.25\" y=\"-56.7\" font-family=\"Helvetica,sans-Serif\" font-size=\"14.00\">entropy = 1.221</text>\n",
       "<text text-anchor=\"start\" x=\"191\" y=\"-40.2\" font-family=\"Helvetica,sans-Serif\" font-size=\"14.00\">samples = 57</text>\n",
       "<text text-anchor=\"start\" x=\"170\" y=\"-23.7\" font-family=\"Helvetica,sans-Serif\" font-size=\"14.00\">value = [32, 22, 3, 0]</text>\n",
       "<text text-anchor=\"start\" x=\"191\" y=\"-7.2\" font-family=\"Helvetica,sans-Serif\" font-size=\"14.00\">class = unacc</text>\n",
       "</g>\n",
       "<!-- 5&#45;&gt;7 -->\n",
       "<g id=\"edge7\" class=\"edge\">\n",
       "<title>5&#45;&gt;7</title>\n",
       "<path fill=\"none\" stroke=\"black\" d=\"M234.12,-109.64C234.12,-101.81 234.12,-93.63 234.12,-85.72\"/>\n",
       "<polygon fill=\"black\" stroke=\"black\" points=\"237.63,-85.91 234.13,-75.91 230.63,-85.91 237.63,-85.91\"/>\n",
       "</g>\n",
       "<!-- 9 -->\n",
       "<g id=\"node10\" class=\"node\">\n",
       "<title>9</title>\n",
       "<path fill=\"#f4c8a8\" stroke=\"black\" d=\"M464.38,-74C464.38,-74 335.88,-74 335.88,-74 329.88,-74 323.88,-68 323.88,-62 323.88,-62 323.88,-12 323.88,-12 323.88,-6 329.88,0 335.88,0 335.88,0 464.38,0 464.38,0 470.38,0 476.38,-6 476.38,-12 476.38,-12 476.38,-62 476.38,-62 476.38,-68 470.38,-74 464.38,-74\"/>\n",
       "<text text-anchor=\"start\" x=\"350.25\" y=\"-56.7\" font-family=\"Helvetica,sans-Serif\" font-size=\"14.00\">entropy = 0.943</text>\n",
       "<text text-anchor=\"start\" x=\"352.88\" y=\"-40.2\" font-family=\"Helvetica,sans-Serif\" font-size=\"14.00\">samples = 236</text>\n",
       "<text text-anchor=\"start\" x=\"331.88\" y=\"-23.7\" font-family=\"Helvetica,sans-Serif\" font-size=\"14.00\">value = [151, 0, 85, 0]</text>\n",
       "<text text-anchor=\"start\" x=\"357\" y=\"-7.2\" font-family=\"Helvetica,sans-Serif\" font-size=\"14.00\">class = unacc</text>\n",
       "</g>\n",
       "<!-- 8&#45;&gt;9 -->\n",
       "<g id=\"edge9\" class=\"edge\">\n",
       "<title>8&#45;&gt;9</title>\n",
       "<path fill=\"none\" stroke=\"black\" d=\"M454.97,-109.64C448.42,-101.08 441.55,-92.11 434.98,-83.52\"/>\n",
       "<polygon fill=\"black\" stroke=\"black\" points=\"437.77,-81.41 428.91,-75.6 432.21,-85.66 437.77,-81.41\"/>\n",
       "</g>\n",
       "<!-- 10 -->\n",
       "<g id=\"node11\" class=\"node\">\n",
       "<title>10</title>\n",
       "<path fill=\"#f3c7a7\" stroke=\"black\" d=\"M643.5,-74C643.5,-74 506.75,-74 506.75,-74 500.75,-74 494.75,-68 494.75,-62 494.75,-62 494.75,-12 494.75,-12 494.75,-6 500.75,0 506.75,0 506.75,0 643.5,0 643.5,0 649.5,0 655.5,-6 655.5,-12 655.5,-12 655.5,-62 655.5,-62 655.5,-68 649.5,-74 643.5,-74\"/>\n",
       "<text text-anchor=\"start\" x=\"525.25\" y=\"-56.7\" font-family=\"Helvetica,sans-Serif\" font-size=\"14.00\">entropy = 1.703</text>\n",
       "<text text-anchor=\"start\" x=\"527.88\" y=\"-40.2\" font-family=\"Helvetica,sans-Serif\" font-size=\"14.00\">samples = 115</text>\n",
       "<text text-anchor=\"start\" x=\"502.75\" y=\"-23.7\" font-family=\"Helvetica,sans-Serif\" font-size=\"14.00\">value = [63, 21, 15, 16]</text>\n",
       "<text text-anchor=\"start\" x=\"532\" y=\"-7.2\" font-family=\"Helvetica,sans-Serif\" font-size=\"14.00\">class = unacc</text>\n",
       "</g>\n",
       "<!-- 8&#45;&gt;10 -->\n",
       "<g id=\"edge10\" class=\"edge\">\n",
       "<title>8&#45;&gt;10</title>\n",
       "<path fill=\"none\" stroke=\"black\" d=\"M522.13,-109.64C528.46,-101.08 535.1,-92.11 541.45,-83.52\"/>\n",
       "<polygon fill=\"black\" stroke=\"black\" points=\"544.17,-85.73 547.3,-75.61 538.54,-81.57 544.17,-85.73\"/>\n",
       "</g>\n",
       "<!-- 12 -->\n",
       "<g id=\"node13\" class=\"node\">\n",
       "<title>12</title>\n",
       "<path fill=\"#efb082\" stroke=\"black\" d=\"M878.25,-200.5C878.25,-200.5 758,-200.5 758,-200.5 752,-200.5 746,-194.5 746,-188.5 746,-188.5 746,-122 746,-122 746,-116 752,-110 758,-110 758,-110 878.25,-110 878.25,-110 884.25,-110 890.25,-116 890.25,-122 890.25,-122 890.25,-188.5 890.25,-188.5 890.25,-194.5 884.25,-200.5 878.25,-200.5\"/>\n",
       "<text text-anchor=\"start\" x=\"781.38\" y=\"-183.2\" font-family=\"Helvetica,sans-Serif\" font-size=\"14.00\">safety ≤ 1.5</text>\n",
       "<text text-anchor=\"start\" x=\"768.25\" y=\"-166.7\" font-family=\"Helvetica,sans-Serif\" font-size=\"14.00\">entropy = 0.842</text>\n",
       "<text text-anchor=\"start\" x=\"775\" y=\"-150.2\" font-family=\"Helvetica,sans-Serif\" font-size=\"14.00\">samples = 37</text>\n",
       "<text text-anchor=\"start\" x=\"754\" y=\"-133.7\" font-family=\"Helvetica,sans-Serif\" font-size=\"14.00\">value = [27, 0, 10, 0]</text>\n",
       "<text text-anchor=\"start\" x=\"775\" y=\"-117.2\" font-family=\"Helvetica,sans-Serif\" font-size=\"14.00\">class = unacc</text>\n",
       "</g>\n",
       "<!-- 11&#45;&gt;12 -->\n",
       "<g id=\"edge12\" class=\"edge\">\n",
       "<title>11&#45;&gt;12</title>\n",
       "<path fill=\"none\" stroke=\"black\" d=\"M818.12,-236.15C818.12,-228.47 818.12,-220.39 818.12,-212.44\"/>\n",
       "<polygon fill=\"black\" stroke=\"black\" points=\"821.63,-212.47 818.13,-202.47 814.63,-212.47 821.63,-212.47\"/>\n",
       "</g>\n",
       "<!-- 15 -->\n",
       "<g id=\"node16\" class=\"node\">\n",
       "<title>15</title>\n",
       "<path fill=\"#73baed\" stroke=\"black\" d=\"M1117.25,-200.5C1117.25,-200.5 997,-200.5 997,-200.5 991,-200.5 985,-194.5 985,-188.5 985,-188.5 985,-122 985,-122 985,-116 991,-110 997,-110 997,-110 1117.25,-110 1117.25,-110 1123.25,-110 1129.25,-116 1129.25,-122 1129.25,-122 1129.25,-188.5 1129.25,-188.5 1129.25,-194.5 1123.25,-200.5 1117.25,-200.5\"/>\n",
       "<text text-anchor=\"start\" x=\"1018.88\" y=\"-183.2\" font-family=\"Helvetica,sans-Serif\" font-size=\"14.00\">buying ≤ 3.5</text>\n",
       "<text text-anchor=\"start\" x=\"1007.25\" y=\"-166.7\" font-family=\"Helvetica,sans-Serif\" font-size=\"14.00\">entropy = 0.771</text>\n",
       "<text text-anchor=\"start\" x=\"1009.88\" y=\"-150.2\" font-family=\"Helvetica,sans-Serif\" font-size=\"14.00\">samples = 115</text>\n",
       "<text text-anchor=\"start\" x=\"993\" y=\"-133.7\" font-family=\"Helvetica,sans-Serif\" font-size=\"14.00\">value = [26, 0, 89, 0]</text>\n",
       "<text text-anchor=\"start\" x=\"1021.5\" y=\"-117.2\" font-family=\"Helvetica,sans-Serif\" font-size=\"14.00\">class = acc</text>\n",
       "</g>\n",
       "<!-- 11&#45;&gt;15 -->\n",
       "<g id=\"edge15\" class=\"edge\">\n",
       "<title>11&#45;&gt;15</title>\n",
       "<path fill=\"none\" stroke=\"black\" d=\"M890.48,-243.06C917.03,-229.23 947.29,-213.47 974.66,-199.21\"/>\n",
       "<polygon fill=\"black\" stroke=\"black\" points=\"976.01,-202.45 983.26,-194.73 972.77,-196.24 976.01,-202.45\"/>\n",
       "</g>\n",
       "<!-- 13 -->\n",
       "<g id=\"node14\" class=\"node\">\n",
       "<title>13</title>\n",
       "<path fill=\"#e58139\" stroke=\"black\" d=\"M797.12,-74C797.12,-74 685.12,-74 685.12,-74 679.12,-74 673.12,-68 673.12,-62 673.12,-62 673.12,-12 673.12,-12 673.12,-6 679.12,0 685.12,0 685.12,0 797.12,0 797.12,0 803.12,0 809.12,-6 809.12,-12 809.12,-12 809.12,-62 809.12,-62 809.12,-68 803.12,-74 797.12,-74\"/>\n",
       "<text text-anchor=\"start\" x=\"699.5\" y=\"-56.7\" font-family=\"Helvetica,sans-Serif\" font-size=\"14.00\">entropy = 0.0</text>\n",
       "<text text-anchor=\"start\" x=\"698\" y=\"-40.2\" font-family=\"Helvetica,sans-Serif\" font-size=\"14.00\">samples = 15</text>\n",
       "<text text-anchor=\"start\" x=\"681.12\" y=\"-23.7\" font-family=\"Helvetica,sans-Serif\" font-size=\"14.00\">value = [15, 0, 0, 0]</text>\n",
       "<text text-anchor=\"start\" x=\"698\" y=\"-7.2\" font-family=\"Helvetica,sans-Serif\" font-size=\"14.00\">class = unacc</text>\n",
       "</g>\n",
       "<!-- 12&#45;&gt;13 -->\n",
       "<g id=\"edge13\" class=\"edge\">\n",
       "<title>12&#45;&gt;13</title>\n",
       "<path fill=\"none\" stroke=\"black\" d=\"M788.58,-109.64C782.97,-101.17 777.09,-92.3 771.46,-83.8\"/>\n",
       "<polygon fill=\"black\" stroke=\"black\" points=\"774.51,-82.06 766.07,-75.66 768.67,-85.93 774.51,-82.06\"/>\n",
       "</g>\n",
       "<!-- 14 -->\n",
       "<g id=\"node15\" class=\"node\">\n",
       "<title>14</title>\n",
       "<path fill=\"#fbeade\" stroke=\"black\" d=\"M959.25,-74C959.25,-74 839,-74 839,-74 833,-74 827,-68 827,-62 827,-62 827,-12 827,-12 827,-6 833,0 839,0 839,0 959.25,0 959.25,0 965.25,0 971.25,-6 971.25,-12 971.25,-12 971.25,-62 971.25,-62 971.25,-68 965.25,-74 959.25,-74\"/>\n",
       "<text text-anchor=\"start\" x=\"849.25\" y=\"-56.7\" font-family=\"Helvetica,sans-Serif\" font-size=\"14.00\">entropy = 0.994</text>\n",
       "<text text-anchor=\"start\" x=\"856\" y=\"-40.2\" font-family=\"Helvetica,sans-Serif\" font-size=\"14.00\">samples = 22</text>\n",
       "<text text-anchor=\"start\" x=\"835\" y=\"-23.7\" font-family=\"Helvetica,sans-Serif\" font-size=\"14.00\">value = [12, 0, 10, 0]</text>\n",
       "<text text-anchor=\"start\" x=\"856\" y=\"-7.2\" font-family=\"Helvetica,sans-Serif\" font-size=\"14.00\">class = unacc</text>\n",
       "</g>\n",
       "<!-- 12&#45;&gt;14 -->\n",
       "<g id=\"edge14\" class=\"edge\">\n",
       "<title>12&#45;&gt;14</title>\n",
       "<path fill=\"none\" stroke=\"black\" d=\"M849.21,-109.64C855.11,-101.17 861.29,-92.3 867.22,-83.8\"/>\n",
       "<polygon fill=\"black\" stroke=\"black\" points=\"870.06,-85.84 872.9,-75.64 864.31,-81.84 870.06,-85.84\"/>\n",
       "</g>\n",
       "<!-- 16 -->\n",
       "<g id=\"node17\" class=\"node\">\n",
       "<title>16</title>\n",
       "<path fill=\"#399de5\" stroke=\"black\" d=\"M1113.12,-74C1113.12,-74 1001.12,-74 1001.12,-74 995.12,-74 989.12,-68 989.12,-62 989.12,-62 989.12,-12 989.12,-12 989.12,-6 995.12,0 1001.12,0 1001.12,0 1113.12,0 1113.12,0 1119.12,0 1125.12,-6 1125.12,-12 1125.12,-12 1125.12,-62 1125.12,-62 1125.12,-68 1119.12,-74 1113.12,-74\"/>\n",
       "<text text-anchor=\"start\" x=\"1015.5\" y=\"-56.7\" font-family=\"Helvetica,sans-Serif\" font-size=\"14.00\">entropy = 0.0</text>\n",
       "<text text-anchor=\"start\" x=\"1014\" y=\"-40.2\" font-family=\"Helvetica,sans-Serif\" font-size=\"14.00\">samples = 77</text>\n",
       "<text text-anchor=\"start\" x=\"997.12\" y=\"-23.7\" font-family=\"Helvetica,sans-Serif\" font-size=\"14.00\">value = [0, 0, 77, 0]</text>\n",
       "<text text-anchor=\"start\" x=\"1021.5\" y=\"-7.2\" font-family=\"Helvetica,sans-Serif\" font-size=\"14.00\">class = acc</text>\n",
       "</g>\n",
       "<!-- 15&#45;&gt;16 -->\n",
       "<g id=\"edge16\" class=\"edge\">\n",
       "<title>15&#45;&gt;16</title>\n",
       "<path fill=\"none\" stroke=\"black\" d=\"M1057.12,-109.64C1057.12,-101.81 1057.12,-93.63 1057.12,-85.72\"/>\n",
       "<polygon fill=\"black\" stroke=\"black\" points=\"1060.63,-85.91 1057.13,-75.91 1053.63,-85.91 1060.63,-85.91\"/>\n",
       "</g>\n",
       "<!-- 17 -->\n",
       "<g id=\"node18\" class=\"node\">\n",
       "<title>17</title>\n",
       "<path fill=\"#f1bb94\" stroke=\"black\" d=\"M1275.25,-74C1275.25,-74 1155,-74 1155,-74 1149,-74 1143,-68 1143,-62 1143,-62 1143,-12 1143,-12 1143,-6 1149,0 1155,0 1155,0 1275.25,0 1275.25,0 1281.25,0 1287.25,-6 1287.25,-12 1287.25,-12 1287.25,-62 1287.25,-62 1287.25,-68 1281.25,-74 1275.25,-74\"/>\n",
       "<text text-anchor=\"start\" x=\"1173.5\" y=\"-56.7\" font-family=\"Helvetica,sans-Serif\" font-size=\"14.00\">entropy = 0.9</text>\n",
       "<text text-anchor=\"start\" x=\"1172\" y=\"-40.2\" font-family=\"Helvetica,sans-Serif\" font-size=\"14.00\">samples = 38</text>\n",
       "<text text-anchor=\"start\" x=\"1151\" y=\"-23.7\" font-family=\"Helvetica,sans-Serif\" font-size=\"14.00\">value = [26, 0, 12, 0]</text>\n",
       "<text text-anchor=\"start\" x=\"1172\" y=\"-7.2\" font-family=\"Helvetica,sans-Serif\" font-size=\"14.00\">class = unacc</text>\n",
       "</g>\n",
       "<!-- 15&#45;&gt;17 -->\n",
       "<g id=\"edge17\" class=\"edge\">\n",
       "<title>15&#45;&gt;17</title>\n",
       "<path fill=\"none\" stroke=\"black\" d=\"M1117.76,-109.64C1130.51,-100.26 1143.93,-90.39 1156.59,-81.07\"/>\n",
       "<polygon fill=\"black\" stroke=\"black\" points=\"1158.46,-84.04 1164.44,-75.29 1154.31,-78.4 1158.46,-84.04\"/>\n",
       "</g>\n",
       "</g>\n",
       "</svg>\n"
      ],
      "text/plain": [
       "<graphviz.sources.Source at 0x2578a532d90>"
      ]
     },
     "execution_count": 73,
     "metadata": {},
     "output_type": "execute_result"
    }
   ],
   "source": [
    "import graphviz \n",
    "dot_data = tree.export_graphviz(dec1, out_file=None, \n",
    "                              feature_names=Xtrain.columns,  \n",
    "                              class_names=ytrain,  \n",
    "                              filled=True, rounded=True,  \n",
    "                              special_characters=True)\n",
    "\n",
    "graph = graphviz.Source(dot_data) \n",
    "\n",
    "graph "
   ]
  },
  {
   "cell_type": "code",
   "execution_count": 79,
   "id": "4a2c2fee",
   "metadata": {},
   "outputs": [
    {
     "name": "stdout",
     "output_type": "stream",
     "text": [
      "Confusion matrix\n",
      "\n",
      " [[ 75   0   0   2]\n",
      " [  6   0   0   8]\n",
      " [ 26   0 213   0]\n",
      " [ 10   0   0   6]]\n"
     ]
    }
   ],
   "source": [
    "from sklearn.metrics import confusion_matrix\n",
    "\n",
    "cm = confusion_matrix(ytest, ypred1)\n",
    "\n",
    "print('Confusion matrix\\n\\n', cm)\n",
    "# this confusion matrix shows 4 cm for 4 categorical "
   ]
  },
  {
   "cell_type": "code",
   "execution_count": 81,
   "id": "402629ab",
   "metadata": {},
   "outputs": [
    {
     "name": "stdout",
     "output_type": "stream",
     "text": [
      "              precision    recall  f1-score   support\n",
      "\n",
      "         acc       0.64      0.97      0.77        77\n",
      "        good       0.00      0.00      0.00        14\n",
      "       unacc       1.00      0.89      0.94       239\n",
      "       vgood       0.38      0.38      0.38        16\n",
      "\n",
      "    accuracy                           0.85       346\n",
      "   macro avg       0.50      0.56      0.52       346\n",
      "weighted avg       0.85      0.85      0.84       346\n",
      "\n"
     ]
    },
    {
     "name": "stderr",
     "output_type": "stream",
     "text": [
      "C:\\Users\\user\\anaconda3\\Lib\\site-packages\\sklearn\\metrics\\_classification.py:1469: UndefinedMetricWarning: Precision and F-score are ill-defined and being set to 0.0 in labels with no predicted samples. Use `zero_division` parameter to control this behavior.\n",
      "  _warn_prf(average, modifier, msg_start, len(result))\n",
      "C:\\Users\\user\\anaconda3\\Lib\\site-packages\\sklearn\\metrics\\_classification.py:1469: UndefinedMetricWarning: Precision and F-score are ill-defined and being set to 0.0 in labels with no predicted samples. Use `zero_division` parameter to control this behavior.\n",
      "  _warn_prf(average, modifier, msg_start, len(result))\n",
      "C:\\Users\\user\\anaconda3\\Lib\\site-packages\\sklearn\\metrics\\_classification.py:1469: UndefinedMetricWarning: Precision and F-score are ill-defined and being set to 0.0 in labels with no predicted samples. Use `zero_division` parameter to control this behavior.\n",
      "  _warn_prf(average, modifier, msg_start, len(result))\n"
     ]
    }
   ],
   "source": [
    "from sklearn.metrics import classification_report\n",
    "\n",
    "print(classification_report(ytest, ypred1))"
   ]
  },
  {
   "cell_type": "code",
   "execution_count": null,
   "id": "726c1148",
   "metadata": {},
   "outputs": [],
   "source": []
  }
 ],
 "metadata": {
  "kernelspec": {
   "display_name": "Python 3 (ipykernel)",
   "language": "python",
   "name": "python3"
  },
  "language_info": {
   "codemirror_mode": {
    "name": "ipython",
    "version": 3
   },
   "file_extension": ".py",
   "mimetype": "text/x-python",
   "name": "python",
   "nbconvert_exporter": "python",
   "pygments_lexer": "ipython3",
   "version": "3.11.4"
  }
 },
 "nbformat": 4,
 "nbformat_minor": 5
}
